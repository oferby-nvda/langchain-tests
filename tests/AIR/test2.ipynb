{
 "cells": [
  {
   "cell_type": "code",
   "execution_count": 6,
   "metadata": {},
   "outputs": [
    {
     "data": {
      "text/plain": [
       "True"
      ]
     },
     "execution_count": 6,
     "metadata": {},
     "output_type": "execute_result"
    }
   ],
   "source": [
    "import os\n",
    "from air_sdk import AirApi\n",
    "from dotenv import load_dotenv\n",
    "load_dotenv()"
   ]
  },
  {
   "cell_type": "markdown",
   "metadata": {},
   "source": []
  },
  {
   "cell_type": "code",
   "execution_count": 7,
   "metadata": {},
   "outputs": [],
   "source": [
    "user = \"obenyacov@nvidia.com\"\n",
    "api_token = os.getenv(\"AIR_API_KEY\")"
   ]
  },
  {
   "cell_type": "code",
   "execution_count": 8,
   "metadata": {},
   "outputs": [],
   "source": [
    "air = AirApi(username=user, password=api_token, api_url=\"https://air-inside.nvidia.com/api/\")"
   ]
  },
  {
   "cell_type": "code",
   "execution_count": 14,
   "metadata": {},
   "outputs": [
    {
     "data": {
      "text/plain": [
       "<Simulation 'gNMI Test' 47749582-bf36-40b7-a4c1-a7dfab0b6139>"
      ]
     },
     "execution_count": 14,
     "metadata": {},
     "output_type": "execute_result"
    }
   ],
   "source": [
    "simulations = air.simulations.list()\n",
    "simulations[0]"
   ]
  },
  {
   "cell_type": "code",
   "execution_count": 15,
   "metadata": {},
   "outputs": [
    {
     "name": "stdout",
     "output_type": "stream",
     "text": [
      "{'class': 'Simulation', 'attributes': {'_deleted': 'bool', '_updatable': 'bool', '_deletable': 'bool', '_api': 'SimulationApi', 'url': 'str', 'id': 'str', 'topology': 'LazyLoaded', 'topology_id': 'str', 'state': 'str', 'nodes': 'LazyLoadedList', 'services': 'list', 'name': 'str', 'expires': 'bool', 'expires_at': 'datetime', 'sleep': 'bool', 'sleep_at': 'datetime', 'netq_username': 'str', 'netq_password': 'str', 'title': 'str', 'organization': 'NoneType', 'citc': 'bool', 'demo': 'NoneType', 'metadata': 'str', 'documentation': 'NoneType', 'cloned': 'bool', 'created': 'datetime', 'organization_name': 'NoneType'}, 'methods': ['__repr__', 'create_service', 'add_permission', 'control', 'load', 'start', 'stop', 'store', 'delete', 'preferences']}\n"
     ]
    }
   ],
   "source": [
    "def object_structure(obj):\n",
    "    return {\n",
    "        'class': obj.__class__.__name__,\n",
    "        'attributes': {name: type(value).__name__ for name, value in vars(obj).items()},\n",
    "        'methods': [name for name, value in vars(obj.__class__).items() if callable(value)]\n",
    "    }\n",
    "\n",
    "structure = object_structure(simulations[0])\n",
    "print(structure)"
   ]
  },
  {
   "cell_type": "code",
   "execution_count": null,
   "metadata": {},
   "outputs": [],
   "source": [
    "def print_object_attributes(obj):\n",
    "    print(f\"Attributes of {obj.__class__.__name__} object:\")\n",
    "    for attr, value in vars(obj).items():\n",
    "        print(f\"  {attr}: {value}\")\n",
    "\n",
    "# Assuming you have an object named 'simulation'\n",
    "print_object_attributes(simulations[0])"
   ]
  },
  {
   "cell_type": "code",
   "execution_count": null,
   "metadata": {},
   "outputs": [],
   "source": [
    "air.images.list()"
   ]
  }
 ],
 "metadata": {
  "kernelspec": {
   "display_name": "venv",
   "language": "python",
   "name": "python3"
  },
  "language_info": {
   "codemirror_mode": {
    "name": "ipython",
    "version": 3
   },
   "file_extension": ".py",
   "mimetype": "text/x-python",
   "name": "python",
   "nbconvert_exporter": "python",
   "pygments_lexer": "ipython3",
   "version": "3.10.12"
  }
 },
 "nbformat": 4,
 "nbformat_minor": 2
}
