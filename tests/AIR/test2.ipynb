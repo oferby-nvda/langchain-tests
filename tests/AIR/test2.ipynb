{
 "cells": [
  {
   "cell_type": "code",
   "execution_count": null,
   "metadata": {},
   "outputs": [],
   "source": []
  },
  {
   "cell_type": "code",
   "execution_count": 1,
   "metadata": {},
   "outputs": [
    {
     "data": {
      "text/plain": [
       "True"
      ]
     },
     "execution_count": 1,
     "metadata": {},
     "output_type": "execute_result"
    }
   ],
   "source": [
    "import os\n",
    "from air_sdk import AirApi\n",
    "from dotenv import load_dotenv\n",
    "load_dotenv()"
   ]
  },
  {
   "cell_type": "markdown",
   "metadata": {},
   "source": []
  },
  {
   "cell_type": "code",
   "execution_count": 2,
   "metadata": {},
   "outputs": [],
   "source": [
    "user = \"obenyacov@nvidia.com\"\n",
    "api_token = os.getenv(\"AIR_API_KEY\")"
   ]
  },
  {
   "cell_type": "code",
   "execution_count": 3,
   "metadata": {},
   "outputs": [],
   "source": [
    "air = AirApi(username=user, password=api_token, api_url=\"https://air-inside.nvidia.com/api/\")"
   ]
  },
  {
   "cell_type": "code",
   "execution_count": 4,
   "metadata": {},
   "outputs": [
    {
     "data": {
      "text/plain": [
       "[]"
      ]
     },
     "execution_count": 4,
     "metadata": {},
     "output_type": "execute_result"
    }
   ],
   "source": [
    "simulations = air.simulations.list()\n",
    "simulations"
   ]
  },
  {
   "cell_type": "code",
   "execution_count": 6,
   "metadata": {},
   "outputs": [
    {
     "ename": "AttributeError",
     "evalue": "<function SimulationApi.create at 0x7fce2dced1b0> requires one of the following: ('topology', 'topology_data')",
     "output_type": "error",
     "traceback": [
      "\u001b[0;31m---------------------------------------------------------------------------\u001b[0m",
      "\u001b[0;31mAttributeError\u001b[0m                            Traceback (most recent call last)",
      "Cell \u001b[0;32mIn[6], line 1\u001b[0m\n\u001b[0;32m----> 1\u001b[0m sim \u001b[38;5;241m=\u001b[39m \u001b[43mair\u001b[49m\u001b[38;5;241;43m.\u001b[39;49m\u001b[43msimulation\u001b[49m\u001b[38;5;241;43m.\u001b[39;49m\u001b[43mcreate\u001b[49m\u001b[43m(\u001b[49m\u001b[43m)\u001b[49m\n",
      "File \u001b[0;32m~/dev/langchain/proj1/venv/lib/python3.10/site-packages/air_sdk/util.py:61\u001b[0m, in \u001b[0;36mrequired_kwargs.<locals>.wrapper.<locals>.wrapped\u001b[0;34m(*args, **kwargs)\u001b[0m\n\u001b[1;32m     59\u001b[0m             \u001b[38;5;28;01mbreak\u001b[39;00m\n\u001b[1;32m     60\u001b[0m     \u001b[38;5;28;01mif\u001b[39;00m \u001b[38;5;129;01mnot\u001b[39;00m present:\n\u001b[0;32m---> 61\u001b[0m         \u001b[38;5;28;01mraise\u001b[39;00m \u001b[38;5;167;01mAttributeError\u001b[39;00m(\u001b[38;5;124mf\u001b[39m\u001b[38;5;124m'\u001b[39m\u001b[38;5;132;01m{\u001b[39;00mmethod\u001b[38;5;132;01m}\u001b[39;00m\u001b[38;5;124m requires one of the following: \u001b[39m\u001b[38;5;132;01m{\u001b[39;00marg\u001b[38;5;132;01m}\u001b[39;00m\u001b[38;5;124m'\u001b[39m)\n\u001b[1;32m     62\u001b[0m \u001b[38;5;28;01melse\u001b[39;00m:\n\u001b[1;32m     63\u001b[0m     \u001b[38;5;28;01mif\u001b[39;00m arg \u001b[38;5;129;01mnot\u001b[39;00m \u001b[38;5;129;01min\u001b[39;00m kwargs:\n",
      "\u001b[0;31mAttributeError\u001b[0m: <function SimulationApi.create at 0x7fce2dced1b0> requires one of the following: ('topology', 'topology_data')"
     ]
    }
   ],
   "source": [
    "sim = air.simulation.create()"
   ]
  },
  {
   "cell_type": "code",
   "execution_count": 5,
   "metadata": {},
   "outputs": [
    {
     "data": {
      "text/plain": [
       "[]"
      ]
     },
     "execution_count": 5,
     "metadata": {},
     "output_type": "execute_result"
    }
   ],
   "source": [
    "air.organizations.list()"
   ]
  },
  {
   "cell_type": "code",
   "execution_count": null,
   "metadata": {},
   "outputs": [],
   "source": [
    "def object_structure(obj):\n",
    "    return {\n",
    "        'class': obj.__class__.__name__,\n",
    "        'attributes': {name: type(value).__name__ for name, value in vars(obj).items()},\n",
    "        'methods': [name for name, value in vars(obj.__class__).items() if callable(value)]\n",
    "    }\n",
    "\n",
    "structure = object_structure(simulations[0])\n",
    "print(structure)"
   ]
  },
  {
   "cell_type": "code",
   "execution_count": null,
   "metadata": {},
   "outputs": [],
   "source": [
    "simulations[0].title"
   ]
  },
  {
   "cell_type": "code",
   "execution_count": null,
   "metadata": {},
   "outputs": [],
   "source": [
    "def print_object_attributes(obj):\n",
    "    print(f\"Attributes of {obj.__class__.__name__} object:\")\n",
    "    for attr, value in vars(obj).items():\n",
    "        print(f\"  {attr}: {value}\")\n",
    "\n",
    "# Assuming you have an object named 'simulation'\n",
    "print_object_attributes(simulations[0])"
   ]
  },
  {
   "cell_type": "code",
   "execution_count": 7,
   "metadata": {},
   "outputs": [
    {
     "data": {
      "text/plain": [
       "[<Image arista-veos:4.25.0F 811a9676-1c33-4687-af84-13fb2a3ed512>,\n",
       " <Image arista-veos:4.26.7M d2ff10f7-89eb-48ef-a5ee-29633c3eb9b4>,\n",
       " <Image arista-veos:4.28.2F fca80349-f054-4e0e-a7ba-e06e06a1f28d>,\n",
       " <Image arm64/ubuntu2004 248e16e0-716f-43a9-8015-a3c3e2d9320f>,\n",
       " <Image bf-bundle-2.7.0-31_24.04_ubuntu-22.04_prod.img 86740937-9c15-47ce-a479-4273f17e47e7>,\n",
       " <Image bf-bundle-2.8.0-3_24.07_ubuntu-22.04_prod.img 3266dee0-45e5-4eab-a40d-e9e71ae25da4>,\n",
       " <Image bios-ovmf-code.fd 355f7a0f-cf08-4421-b76b-04fbcdf426b1>,\n",
       " <Image cl-5.0.0.1022 f45192ab-73ed-4543-b811-540c9a707903>,\n",
       " <Image cl-simx__5.6.0.0007.txz 45c1d20f-a380-4dda-b347-0fd127a8e02d>,\n",
       " <Image cl-simx__5.6.0.0018.txz 8ae5bdf4-2262-49e3-a2ae-566c1745cc17>,\n",
       " <Image cl-simx__5.6.0.0019.txz ff99072b-6e7b-4ebb-bd11-83c13fe9341e>,\n",
       " <Image cl-simx__5.6.0.0025.txz 51b41279-d897-41b0-9185-d06ddf36e308>,\n",
       " <Image cl-simx__5.6.0.0026.txz c2173fb4-5f56-4530-853e-b3fb09d7b032>,\n",
       " <Image cl-simx__5.6.0.0027.txz 563da786-68cc-48cd-8a65-9778ee117ed1>,\n",
       " <Image cl-simx__5.6.0.0029.txz 25bc1aa2-f153-4b18-b4d6-ce1015f6bb8a>,\n",
       " <Image cl-simx__release_5.5.1.0001.txz dffb8e6c-0950-4492-bd95-de4835f1c0c4>,\n",
       " <Image cl-simx__spc4bu_5.4.0c.0002.txz b746aff1-d02b-44a8-bb61-59ca4960eb7e>,\n",
       " <Image cumulus-simx-5.2.0 ce7f4a28-ab9a-47db-8a31-19cbc9ce30d3>,\n",
       " <Image cumulus-simx-5.2.1 6184360b-6afd-4098-9362-445fc2a11548>,\n",
       " <Image cumulus-simx-5.3.0 e1b36976-1783-4aa0-ae16-c5512e36748a>,\n",
       " <Image cumulus-simx-5.3.1 8168daab-42c8-499c-8377-6591b0a5ac87>,\n",
       " <Image cumulus-simx-5.4.0 6b2b597d-3d50-4b57-a84f-51747d7021a3>,\n",
       " <Image cumulus-simx-5.5.0 63452450-64c4-4e7c-a03f-5f4fa491c54b>,\n",
       " <Image cumulus-simx-5.6.0 ad182b28-5faa-4a53-8d4b-a25d1fd3f5ac>,\n",
       " <Image cumulus-vx-3.7.10 11fbba7e-c205-41fa-aece-23437fc04ae5>,\n",
       " <Image cumulus-vx-3.7.11 39b733ef-2448-4ca6-9cfe-1e3f64fe3513>,\n",
       " <Image cumulus-vx-3.7.12 bf38f8a6-f390-4c09-a44d-2d520de5f8d0>,\n",
       " <Image cumulus-vx-3.7.13 ab39bbdb-de3c-4ecd-8afa-5dd0b54e024a>,\n",
       " <Image cumulus-vx-3.7.14 38a28d8d-3192-4a52-bb08-51f0d3529740>,\n",
       " <Image cumulus-vx-3.7.14.2 3a1f11fa-ddd3-4494-8b22-79df03146236>,\n",
       " <Image cumulus-vx-3.7.15 66ec11e7-d76d-4cc6-a940-544901cf1153>,\n",
       " <Image cumulus-vx-3.7.16 f7a58bd9-8bc6-4e8f-8dc9-5eb26edbfcdd>,\n",
       " <Image cumulus-vx-3.7.5 5b8d37a6-2cb1-49e7-a531-1b57d0437c7e>,\n",
       " <Image cumulus-vx-3.7.9 f34c9738-5bc1-4c32-988e-595f1b2eb4c0>,\n",
       " <Image cumulus-vx-4.0.0 4c88afeb-413c-4cc2-830d-e557b447cb8f>,\n",
       " <Image cumulus-vx-4.1.0 b8ce6e17-bceb-4fa2-a0d5-e287ae2ec2e6>,\n",
       " <Image cumulus-vx-4.1.1 84c03847-4b4c-4d22-9293-93690c16a7e3>,\n",
       " <Image cumulus-vx-4.2.0 cedb08cc-1b68-494e-8194-b09a18439269>,\n",
       " <Image cumulus-vx-4.2.1 39ab8a16-7598-48aa-9af1-e8e4ef4e90f2>,\n",
       " <Image cumulus-vx-4.2.1.7 c109367b-f3d9-4f9a-96f9-db50ed35054f>,\n",
       " <Image cumulus-vx-4.2.1.7-ngn 5ecfcb57-c5e3-44ac-acec-7ec528d53e36>,\n",
       " <Image cumulus-vx-4.3.0 96b94d18-01d6-4231-9c96-d5c6e3ffec7d>,\n",
       " <Image cumulus-vx-4.3.1 e2851a25-75a1-4d1b-87ec-7d3b825cd7e4>,\n",
       " <Image cumulus-vx-4.3.2 e27cb699-b55a-47cb-a826-643fdb78cca9>,\n",
       " <Image cumulus-vx-4.4.0 7f199a93-7272-415d-8183-8264d667d577>,\n",
       " <Image cumulus-vx-4.4.0-dev-1028 fd9a2a2b-1995-4ced-80b7-2ed242598da4>,\n",
       " <Image cumulus-vx-4.4.1 f2295284-52ac-4b41-b0b8-d02ff0606ebb>,\n",
       " <Image cumulus-vx-4.4.1.dev1171 85866b2e-e659-475e-9484-b37e92a289d3>,\n",
       " <Image cumulus-vx-4.4.2 5e37e502-4507-44c0-afcd-655c445f52de>,\n",
       " <Image cumulus-vx-4.4.3 ea40b318-2b7c-41d8-afa2-b1c11cc40561>,\n",
       " <Image cumulus-vx-4.4.4 f4576fca-694b-4393-9a92-ce41b9ab23d3>,\n",
       " <Image cumulus-vx-4.4.5 e6bf816d-f91e-472a-95fe-2b3540af7dfa>,\n",
       " <Image cumulus-vx-5.0-dev1610 1daeaa1c-4b04-4c75-a540-19283667a281>,\n",
       " <Image cumulus-vx-5.0-rel1064 90bc5f46-011f-412d-a7aa-b98a946a8f94>,\n",
       " <Image cumulus-vx-5.0.0 a1057622-246f-4ed8-ab7f-4e677a58d2a6>,\n",
       " <Image cumulus-vx-5.0.1 7a5e21de-6389-4593-9ab3-836a05b1dd86>,\n",
       " <Image cumulus-vx-5.1.0 b94af2c2-5295-45fb-a526-3ce9012d0f20>,\n",
       " <Image cumulus-vx-5.1.0-dev.2016 f67194d0-f555-4289-9ddb-da29e2f6abf3>,\n",
       " <Image cumulus-vx-5.1.0-dev.2044 02c4aa84-e745-4239-8449-545462cd5089>,\n",
       " <Image cumulus-vx-5.1.0-dev2080 204727de-f3e8-47ed-a1d4-7d20ffa80e08>,\n",
       " <Image cumulus-vx-5.1.0-dev2094 535a7ad0-7be2-4032-a39b-f43d9227193a>,\n",
       " <Image cumulus-vx-5.1.0.2002 9a216cf7-ac45-4783-a157-84cdca007b19>,\n",
       " <Image cumulus-vx-5.10.0 8c620945-2fa4-40cf-867f-e91ec20ddc03>,\n",
       " <Image cumulus-vx-5.10.0.0024 f88b8251-f057-46ce-aef1-326a9635cf7d>,\n",
       " <Image cumulus-vx-5.2.0 cc58d9a8-e45c-4e4f-b685-25d4acb9bd40>,\n",
       " <Image cumulus-vx-5.2.1 9691a1d9-bfcb-4bc7-8671-4996328e84f1>,\n",
       " <Image cumulus-vx-5.3.0 a4a1600d-9421-4125-a7e9-8f3fcab4bed1>,\n",
       " <Image cumulus-vx-5.3.1 cc364648-01ae-4f45-b667-c99e61c07060>,\n",
       " <Image cumulus-vx-5.4.0 967375f2-9c47-4e43-a77e-af75255c4297>,\n",
       " <Image cumulus-vx-5.4.0c 7036cb2a-72e5-4a37-966e-70a70d128ead>,\n",
       " <Image cumulus-vx-5.5.0 ac58f331-24db-45f5-b1d7-207e6ee0e2e5>,\n",
       " <Image cumulus-vx-5.5.1 c0feb5aa-61af-48d5-a9df-7875656367de>,\n",
       " <Image cumulus-vx-5.6.0 b24d6df2-0ecd-4a15-a6b8-5025e3e56eba>,\n",
       " <Image cumulus-vx-5.6.0.0001 d786a444-46fd-4bbe-a582-3e84c8a9d6ae>,\n",
       " <Image cumulus-vx-5.6.0.0004 93b2a5e4-b473-4909-9c6c-5f23d49ce53f>,\n",
       " <Image cumulus-vx-5.6.0.0013 be59e895-49bf-4480-af11-37a35c683a8f>,\n",
       " <Image cumulus-vx-5.6.0.0016 a949d9a8-5f2f-41a6-be4d-dc01ef746187>,\n",
       " <Image cumulus-vx-5.6.0.0017 1584e825-193f-4c6f-a890-fb0d18044450>,\n",
       " <Image cumulus-vx-5.6.0.0018 bd49595a-7b00-4de9-89ea-79e404b8285c>,\n",
       " <Image cumulus-vx-5.6.0.0019 a7111894-6230-4471-9e6b-6810945e8d19>,\n",
       " <Image cumulus-vx-5.6.0.0021 46d6424d-a7c2-4f6c-b8ed-b8c963a04bbc>,\n",
       " <Image cumulus-vx-5.6.0.0023 749a143c-c963-40e0-b4dc-3b2e53179bfc>,\n",
       " <Image cumulus-vx-5.6.0.0025 77522899-7a7e-4b04-a67f-a07e0ebc9a97>,\n",
       " <Image cumulus-vx-5.6.0.0026 84cde806-8bfd-44ad-85c7-1077fbd2ecfa>,\n",
       " <Image cumulus-vx-5.6.0.0027 cd132548-12f1-4647-8d35-51cc0d60ea99>,\n",
       " <Image cumulus-vx-5.6.0.0028 99e6e177-0b83-4c98-bc0f-5571740946b1>,\n",
       " <Image cumulus-vx-5.6.0.0029 46a55f89-94a9-4e68-9d83-140dcc54d609>,\n",
       " <Image cumulus-vx-5.7.0 883b9fa3-070e-4f87-9e2d-458db66ecc27>,\n",
       " <Image cumulus-vx-5.8.0 87541207-a896-4306-8753-fa60bb40597f>,\n",
       " <Image cumulus-vx-5.9.0 d2513bf3-6c30-4b6f-b3b0-a6928b706593>,\n",
       " <Image cumulus-vx-5.9.1 9caf35e8-2c71-40bd-b2ad-97c92dbd6a75>,\n",
       " <Image cumulus-vx-5.dev.2617 8d877945-3479-4583-b6c6-cdf499708fa7>,\n",
       " <Image cumulus-vx-5.dev.2997 7fc05727-1256-4f3d-8d37-7f6c4f4d8857>,\n",
       " <Image cumulus-vx-5.dev.3019 17600db1-7d23-4fba-8801-5c9716f09dcd>,\n",
       " <Image cumulus-vx-5.dev.3044 2943be7d-f57d-4aec-b597-1e89bdba0315>,\n",
       " <Image cumulus-vx-5.dev.3050 fdc4bc3d-96a1-4044-9feb-bd9411072dff>,\n",
       " <Image cumulus-vx-5.dev.3072 810fcc2f-98d3-4d5a-86e5-4bb38fd4023b>,\n",
       " <Image cumulus-vx-5.dev.3087 b8b37513-7824-4175-b0ca-9bc7eac26571>,\n",
       " <Image cumulus-vx-5.dev.3117 37a97ae7-6355-4779-9384-4a7d247f8528>,\n",
       " <Image cumulus-vx-5.dev.3126 18c79383-b6f3-4dce-ab8f-d6e9d0590005>,\n",
       " <Image cumulus-vx-5.dev.3128 548a6aa0-3592-4a06-a849-b7f8aeb2b4d3>,\n",
       " <Image cumulus-vx-5.dev.3138 55d6fd20-541b-4158-9861-2b75f32b657b>,\n",
       " <Image cumulus-vx-5.dev.3151 a7773acc-e409-49e1-9662-a44ad27406e7>,\n",
       " <Image cumulus-vx-5.dev.3166 a435902a-4dc8-4515-83b4-d3e8ee9e3003>,\n",
       " <Image cumulus-vx-5.dev.3168 2f459d2a-81c8-4713-86af-8c760ff6fa81>,\n",
       " <Image cumulus-vx-5.dev.3179 719a0c07-002f-477a-a82f-39164a6f15ba>,\n",
       " <Image cumulus-vx-5.dev.3183 76022516-0078-4bd3-bf0c-e8c2dc6ac0cd>,\n",
       " <Image cumulus-vx-5.dev.3188 e91af7d5-86e8-4cd9-846e-bcdd0a65f483>,\n",
       " <Image cumulus-vx-5.dev.3192 c4453471-348c-4609-b979-d37a00211cf8>,\n",
       " <Image cumulus-vx-5.dev.3233 ab1d7f70-04e2-49f2-a944-6ad9ac897d06>,\n",
       " <Image DOCA_2.1.0_BSP_4.1.0_Ubuntu_20.04-2.20230320.img 9a49121e-f719-4bf6-82f7-afefb97d17a7>,\n",
       " <Image DOCA_2.2.0_BSP_4.2.0_Ubuntu_22.04-ngn-2.23-07.dev.img 74f85ab4-fd19-4ddf-adbb-09095d1ab67c>,\n",
       " <Image DOCA_2.2.1_BSP_4.2.1_Ubuntu_20.04-1.20230907.prod.img 077cd5cb-e100-4ad3-9455-1b04bafafc6f>,\n",
       " <Image DOCA_2.2.1_BSP_4.2.1_Ubuntu_22.04-6.23-09.prod.img d110f23b-9bc6-4de7-9353-0cc08dd892c4>,\n",
       " <Image DOCA_2.5.0_BSP_4.5.0_Ubuntu_22.04-1.20231105.dev.img 7ea2e174-f3fe-44ec-9ca2-7e85366b46f7>,\n",
       " <Image DOCA_2.5.0_BSP_4.5.0_Ubuntu_22.04-1.20231105.dev.img-broken 392b41e6-904d-46a9-9dca-e58e01850321>,\n",
       " <Image DOCA_2.5.0_BSP_4.5.0_Ubuntu_22.04-1.23-10.prod.img a214de69-8a1b-4b39-b7b8-e46cd1c1abc0>,\n",
       " <Image DOCA_2.5.0_BSP_4.5.0_Ubuntu_22.04-1.ngn.20231105.dev.img 5b14b80f-10d0-4727-b3b8-5ccb1e168ffa>,\n",
       " <Image DOCA_2.5.0_BSP_4.5.0_Ubuntu_22.04-ngn-1.23-10.prod.img f86de22d-2425-40e9-ac72-89712c09cb75>,\n",
       " <Image DOCA_2.6.0_BSP_4.6.0_Ubuntu_22.04-1.20240116.prod.img a583f177-0735-4311-964f-60732783cc53>,\n",
       " <Image DOCA_2.6.0_BSP_4.6.0_Ubuntu_22.04-1.20240129.prod.img c47a0ab7-d70e-49c6-827d-8726dd47bc5e>,\n",
       " <Image DOCA_2.6.0_BSP_4.6.0_Ubuntu_22.04-1.24-01.prod.img a29b87bb-49e5-4755-be3d-790f22866485>,\n",
       " <Image DOCA_2.6.0_BSP_4.6.0_Ubuntu_22.04-4.24-01.prod.img 231b8581-b3f1-4250-a10d-57a0212d8c81>,\n",
       " <Image DOCA_2.6.0_BSP_4.6.0_Ubuntu_22.04-5.24-01.prod.img 7d59d219-d45b-4bf1-a3b1-117c2612fc5f>,\n",
       " <Image DOCA_2.6.0_BSP_4.6.0_Ubuntu_22.04-ngn-1.20240129.prod.img 81ccfa20-a7b8-4a2f-88c4-aa139589cc2d>,\n",
       " <Image DOCA_2.7.0_BSP_4.7.0_Ubuntu_20.04-1.20240205.dev.img 7129904a-5a04-4abd-a450-e99e6abf3339>,\n",
       " <Image DOCA_2.7.0_BSP_4.7.0_Ubuntu_22.04-1.20240226.prod.img 9045c0a6-41d7-4b7b-a873-86ea24c9369d>,\n",
       " <Image DOCA_EFI.fd 7b8b08b2-d9ae-4c7d-8521-6ce73597eadf>,\n",
       " <Image doca-1.2.0 455f68bc-d26c-4278-8b68-e1167fddcf92>,\n",
       " <Image doca-1.2.1 898e8842-a2d2-4d30-bf0a-4484be118642>,\n",
       " <Image dpu-hbn 0514dbe5-f1ac-4c39-a9ca-9b7df8d378c1>,\n",
       " <Image dpu/doca-1.2 90ed681e-9312-40ef-9afc-607468e6c490>,\n",
       " <Image esx-7 f6591672-f93f-4c58-980b-3b8faed9b4e8>,\n",
       " <Image fleet-command aea52399-cd2a-466a-a1ee-b75914f68b35>,\n",
       " <Image flowvision-aviz-vs 4052e38d-7319-4cd0-ae8d-be58c77bff53>,\n",
       " <Image fortios:7.0.1 df63e740-cbde-4a62-bf8d-7cbea75734c1>,\n",
       " <Image generic/ubuntu1804 206c7eee-c083-48a2-ab45-c61b698d6734>,\n",
       " <Image generic/ubuntu2004 5b080b98-4306-4ab2-9363-39af47b8c6ab>,\n",
       " <Image generic/ubuntu2004-08102022 22a44d84-a6ab-4183-b97e-e6fe248dbeff>,\n",
       " <Image generic/ubuntu2104 e171efee-cc38-4f0e-97ce-2ae0928c0ba0>,\n",
       " <Image generic/ubuntu2204 defb3ffc-e29b-4d3a-a5fb-41ed1974f938>,\n",
       " <Image generic/ubuntu2404 c02eeb63-3620-4ba3-b6b9-41cc20c4454b>,\n",
       " <Image gpu/ubuntu1804 d4a1aed6-be51-4dc8-b040-7d615f422f6a>,\n",
       " <Image gpu/ubuntu2004 12c5bc12-32b5-4c0c-8554-d789f6c45fca>,\n",
       " <Image ibmgtsim 8d9273f1-e67c-4206-b473-043e551c91b5>,\n",
       " <Image ixia_virtual_chassis 99b4295b-e3db-41c4-ba30-608cb20b5d15>,\n",
       " <Image ixiac-18.04 1d3f73d4-0584-4375-a182-b962c9180cd3>,\n",
       " <Image netace:latest 2e7f9c52-4b7e-4d80-b380-d1982009aefa>,\n",
       " <Image netq-ts-cloud-3.2.0 403d027e-81df-4c81-bd15-9ee4264c5a70>,\n",
       " <Image netq-ts-cloud-3.2.1 b9b87b1b-bf38-4f2c-80a1-92fc67bc4612>,\n",
       " <Image netq-ts-cloud-3.3.0 f38c1447-a88e-453e-a2f0-96427303fb8f>,\n",
       " <Image netq-ts-cloud-4.1.0 adb96497-af0e-4ad8-b6f5-72262d35c4a3>,\n",
       " <Image netq-ts-cloud-4.1.1 615aac39-22db-40a7-80b7-0518ccfc06d5>,\n",
       " <Image netq-ts-cloud-4.2.0 953d12f1-fc73-4308-b841-570651372f7e>,\n",
       " <Image netq-ts-cloud-4.3.0 705db181-4364-4747-9653-eff270bbf457>,\n",
       " <Image netq-ts-cloud-4.3.0 18bdfba6-e214-4b10-971c-8f9b58c7fff0>,\n",
       " <Image netq-ts-cloud-4.5.0 6f60348e-655b-47e0-92b6-e5a68c0dbee1>,\n",
       " <Image netq-ts-cloud-4.7.0 e9c5d6b7-6626-4513-9447-cb35a8f60ee4>,\n",
       " <Image nvidia-dgxos-4.9.0 68c0e79a-edd4-4f7c-babe-2318a7ee520b>,\n",
       " <Image nxosv-9.2.1 81a9c62c-f591-4557-960a-1500bcbdb8a4>,\n",
       " <Image ofed-5.8-rhel8.5-x86_64.qcow2 fe2c1f13-cd74-4fb4-ad20-bbae18993a6f>,\n",
       " <Image onie bee7cae9-0fa3-4ce5-97ff-6d9e623d69fc>,\n",
       " <Image onie-simx-5.0-1014 7010c7a7-a5cf-4212-9f02-a903aae2285a>,\n",
       " <Image oob-mgmt-server cc6f7f19-9129-4840-a9d6-087a1c805d20>,\n",
       " <Image oob-mgmt-switch f530af90-474b-40bf-97e4-5e5346b30461>,\n",
       " <Image pxe 64d6fbb2-5187-4bd1-bf8b-2c8c345b2790>,\n",
       " <Image QEMU_EFI.fd d1a35c3f-fbc2-4896-85fe-a2bb9a5f4a9e>,\n",
       " <Image scapy d0ea9e1b-21b2-49ab-9faa-927fbe6b0fc9>,\n",
       " <Image simx-dpu-23.10-1012_x86_64 bcaaca78-9084-4f7a-8596-012f00aedbcd>,\n",
       " <Image simx-dpu-23.9-1018_x86_64 e2c1b66e-3796-4dee-970e-d28ad3dfcaa4>,\n",
       " <Image simx-dpu-24.1-1007_x86_64 02c8b883-62c0-4848-8985-b616e598357e>,\n",
       " <Image simx-dpu-24.1-1081_aarch64 d6138d67-4414-4dee-b4cb-2099a1bc064d>,\n",
       " <Image simx-dpu-24.1-1083_x86_64 97bf8cce-a8d1-435e-a609-2562948798f6>,\n",
       " <Image simx-dpu-24.1-1100_aarch64 e9703eee-5aa2-440c-bee5-cd0139a1ddaa>,\n",
       " <Image simx-dpu-24.1-1100_x86_64 00956a9a-1d6b-439f-bf8a-b0013ee5a654>,\n",
       " <Image simx-dpu-24.1-1125_aarch64 9c20f80b-a4ce-4feb-9c3b-df26bf9f812e>,\n",
       " <Image simx-dpu-24.1-1125_x86_64 62a50c8f-44a4-48e0-96ca-7606bf9d928a>,\n",
       " <Image simx-dpu-24.4-1038_aarch64 e23290e2-8bda-4b23-b37a-3e2033a2e864>,\n",
       " <Image simx-dpu-24.4-1038_x86_64 b9485c14-3f23-429a-a143-946800d9499b>,\n",
       " <Image simx-dpu-24.4-1064_aarch64 8520f564-ec0a-47df-8b09-709ec0229488>,\n",
       " <Image simx-dpu-24.4-1064_x86_64 0be6792e-87b8-4d95-9f62-69a05915f7a7>,\n",
       " <Image simx-dpu-24.4-1075_aarch64 6ebe3301-9ae3-441b-8232-64600d984ad6>,\n",
       " <Image simx-dpu-24.4-1075_x86_64 8b8627b3-d1f5-40cb-87ca-832cdbe86fb7>,\n",
       " <Image simx-dpu-24.4-1092_aarch64 00c348a6-3fb9-4919-a4f4-247736ea84a5>,\n",
       " <Image simx-dpu-24.4-1092_x86_64 6fc1e20f-7d4e-4c9d-8d52-0dd57913beb3>,\n",
       " <Image simx-dpu-24.4-1095_aarch64 bfdc46c0-229f-4bea-b143-dc7feec77ec9>,\n",
       " <Image simx-dpu-24.4-1095_x86_64 38ed798b-3b3a-4d20-9ac1-1361b4500f0b>,\n",
       " <Image simx-dpu-aug3 ae210f34-6005-411c-a7ff-75b4e311fdbb>,\n",
       " <Image simx-dpu-container-04-10-2023 4e962a02-b3eb-49af-bfde-b29f51ca5c02>,\n",
       " <Image simx-dpu-july11 f32956cd-9c15-4873-a1dc-06fecf6c404e>,\n",
       " <Image simx-nic-24.10-1033_aarch64 cd53f1d5-48fe-4a75-9cbd-d0c14bb9d7c5>,\n",
       " <Image simx-nic-24.10-1033_x86_64 0bb9d47b-a3e4-4514-ab23-3609c65a5069>,\n",
       " <Image simx-nic-24.10-1037_aarch64 beaa73b9-746c-4b3c-a6f3-24ca557ceace>,\n",
       " <Image simx-nic-24.10-1037_x86_64 563ba715-a6ed-4d38-b764-9411a137792b>,\n",
       " <Image simx-nic-24.4-1111_aarch64 7c9376bd-c900-4fde-a081-f4720338d5a7>,\n",
       " <Image simx-nic-24.4-1111_x86_64 705fec0d-3ae3-425d-b1db-94e9fc775506>,\n",
       " <Image simx-nic-24.7-1011_aarch64 0a84b121-548e-4c0f-ba54-57545964ab9d>,\n",
       " <Image simx-nic-24.7-1011_x86_64 7978a382-78ed-48d5-8ec7-3e95520b70f5>,\n",
       " <Image simx-nic-24.7-1077_aarch64 7f684eed-083f-44e3-88cc-da97896a7ccc>,\n",
       " <Image simx-nic-24.7-1077_x86_64 1ab953e4-b49a-4fdb-a4cb-ec5bd0deb950>,\n",
       " <Image simx-nic-24.7-1116_aarch64 685a8ae5-8e7b-49bb-aa30-b5e6f2588e22>,\n",
       " <Image simx-nic-24.7-1116_x86_64 4a6fe6c5-cbb1-49df-906e-ae2de295e9e0>,\n",
       " <Image simx-nic-24.7-1128_aarch64 d9e7ba08-3487-42fe-a12f-f53e21ec76e6>,\n",
       " <Image simx-nic-24.7-1128_x86_64 efe0b5ad-a0d2-4fc2-aeb7-9d428c91be01>,\n",
       " <Image simx-nic-24.7-1142_aarch64 1bfbac3e-5b2b-44af-ba82-cde0a0ab03e7>,\n",
       " <Image simx-nic-24.7-1142_x86_64 5577c61b-2520-43ad-8341-5a61bbf92794>,\n",
       " <Image simx-nic-24.7-1150_aarch64 e7436adf-fcd2-42d1-9abb-e22c1e1000b9>,\n",
       " <Image simx-nic-24.7-1150_x86_64 9f257bdf-764e-49cc-b0cd-77876bb6c1cc>,\n",
       " <Image simx-nic-24.7-1151_aarch64 42f26ef8-3a3c-4c23-84c5-5b66bb7d1afa>,\n",
       " <Image simx-nic-24.7-1151_x86_64 67524f19-ef86-420b-b6ec-888709078acb>,\n",
       " <Image sonic-201911-c453381a 41311601-15a6-4bb5-b6de-d8f2bf63b0dc>,\n",
       " <Image sonic-202012-5bdbfcfb 7d6b469b-03a2-4996-af85-6d3135620c8e>,\n",
       " <Image sonic-202012-f6f4c7f4 5aa4d19c-24d1-44d0-b636-56fb06eff8ef>,\n",
       " <Image sonic-202012-fb89c28c 247babfd-fee5-43e1-b04d-206e385fa665>,\n",
       " <Image sonic-202205_2 da11de9a-a890-4664-a1e0-0c783bfd7403>,\n",
       " <Image sonic-aviz-vs 8bfb3a88-e44f-49ae-9876-acad5a90d882>,\n",
       " <Image sonic-simx df1ca043-0a9d-43ec-9bde-2fbcbc431c3e>,\n",
       " <Image sonic-simx-202211.55-d93970bc2_Internal af90af41-bc22-4a96-b0d0-dc5c5f81ca7b>,\n",
       " <Image sonic-simx-master 794e04fc-14c9-43ff-ad59-7c5e68cc4bf8>,\n",
       " <Image sonic-vs_202311_GA 4ef65fed-a05c-4465-8c95-d55f089e6da9>,\n",
       " <Image sonic-vs-202211_RC16.2-335271f650_Internal 19067b06-68b5-42ad-b11d-66b9077b31cd>,\n",
       " <Image sonic-vs-202211.55-d93970bc2_Internal 83bcbc56-44bb-48e5-bb55-decd1d57fb89>,\n",
       " <Image sonic-vs-202305 28019dfd-2cf7-4bb2-8edd-44c03ecd3c18>,\n",
       " <Image suse-sles-12-sp4 9be01066-2841-47f5-a529-c1b3ec48e94b>,\n",
       " <Image switch__23.7-1060.txz fdf2e61f-48e8-4b0d-abdc-13f94d5bfd0d>,\n",
       " <Image switch__23.7-1063.txz 3579d71f-b08f-45a1-8888-b680455a4b1e>,\n",
       " <Image switch__23.7-1074.txz c9a87ef7-12c6-45a1-879c-a2dc796a434c>,\n",
       " <Image ubuntu_20_04 83ed739a-c16e-4747-8422-7ca0e301271a>,\n",
       " <Image ubuntu_22_04 2ad29ad3-62b0-4c56-b5a3-47c9392da03a>,\n",
       " <Image ufm ad2c72a9-6baf-4128-85f2-0a363cb6a8e1>,\n",
       " <Image vEOS-4.23.5M 0e57064c-622c-4631-9f2e-50f643207144>,\n",
       " <Image xrv9000-6.5.2 50394785-874b-4232-8843-cbe02059a760>]"
      ]
     },
     "execution_count": 7,
     "metadata": {},
     "output_type": "execute_result"
    }
   ],
   "source": [
    "images = air.images.list()\n",
    "images"
   ]
  },
  {
   "cell_type": "code",
   "execution_count": 10,
   "metadata": {},
   "outputs": [
    {
     "data": {
      "text/plain": [
       "'arista-veos:4.25.0F'"
      ]
     },
     "execution_count": 10,
     "metadata": {},
     "output_type": "execute_result"
    }
   ],
   "source": [
    "images[0].name"
   ]
  },
  {
   "cell_type": "code",
   "execution_count": null,
   "metadata": {},
   "outputs": [],
   "source": []
  }
 ],
 "metadata": {
  "kernelspec": {
   "display_name": "venv",
   "language": "python",
   "name": "python3"
  },
  "language_info": {
   "codemirror_mode": {
    "name": "ipython",
    "version": 3
   },
   "file_extension": ".py",
   "mimetype": "text/x-python",
   "name": "python",
   "nbconvert_exporter": "python",
   "pygments_lexer": "ipython3",
   "version": "3.10.12"
  }
 },
 "nbformat": 4,
 "nbformat_minor": 2
}
