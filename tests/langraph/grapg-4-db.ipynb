{
 "cells": [
  {
   "cell_type": "markdown",
   "metadata": {},
   "source": [
    "https://langchain-ai.github.io/langgraph/tutorials/customer-support/customer-support/"
   ]
  },
  {
   "cell_type": "code",
   "execution_count": 1,
   "metadata": {},
   "outputs": [
    {
     "data": {
      "text/plain": [
       "True"
      ]
     },
     "execution_count": 1,
     "metadata": {},
     "output_type": "execute_result"
    }
   ],
   "source": [
    "import os\n",
    "from dotenv import load_dotenv\n",
    "from langchain_anthropic import ChatAnthropic\n",
    "\n",
    "load_dotenv()"
   ]
  },
  {
   "cell_type": "markdown",
   "metadata": {},
   "source": [
    "Populate the database"
   ]
  },
  {
   "cell_type": "code",
   "execution_count": 5,
   "metadata": {},
   "outputs": [],
   "source": [
    "import os\n",
    "import shutil\n",
    "import sqlite3\n",
    "\n",
    "import pandas as pd\n",
    "import requests\n",
    "\n",
    "db_url = \"https://storage.googleapis.com/benchmarks-artifacts/travel-db/travel2.sqlite\"\n",
    "local_file = \"travel2.sqlite\"\n",
    "# The backup lets us restart for each tutorial section\n",
    "backup_file = \"travel2.backup.sqlite\"\n",
    "overwrite = False\n",
    "if overwrite or not os.path.exists(local_file):\n",
    "    response = requests.get(db_url)\n",
    "    response.raise_for_status()  # Ensure the request was successful\n",
    "    with open(local_file, \"wb\") as f:\n",
    "        f.write(response.content)\n",
    "    # Backup - we will use this to \"reset\" our DB in each section\n",
    "    shutil.copy(local_file, backup_file)\n",
    "# Convert the flights to present time for our tutorial\n",
    "conn = sqlite3.connect(local_file)\n",
    "cursor = conn.cursor()\n",
    "\n",
    "tables = pd.read_sql(\n",
    "    \"SELECT name FROM sqlite_master WHERE type='table';\", conn\n",
    ").name.tolist()\n",
    "tdf = {}\n",
    "for t in tables:\n",
    "    tdf[t] = pd.read_sql(f\"SELECT * from {t}\", conn)\n",
    "\n",
    "example_time = pd.to_datetime(\n",
    "    tdf[\"flights\"][\"actual_departure\"].replace(\"\\\\N\", pd.NaT)\n",
    ").max()\n",
    "current_time = pd.to_datetime(\"now\").tz_localize(example_time.tz)\n",
    "time_diff = current_time - example_time\n",
    "\n",
    "tdf[\"bookings\"][\"book_date\"] = (\n",
    "    pd.to_datetime(tdf[\"bookings\"][\"book_date\"].replace(\"\\\\N\", pd.NaT), utc=True)\n",
    "    + time_diff\n",
    ")\n",
    "\n",
    "datetime_columns = [\n",
    "    \"scheduled_departure\",\n",
    "    \"scheduled_arrival\",\n",
    "    \"actual_departure\",\n",
    "    \"actual_arrival\",\n",
    "]\n",
    "for column in datetime_columns:\n",
    "    tdf[\"flights\"][column] = (\n",
    "        pd.to_datetime(tdf[\"flights\"][column].replace(\"\\\\N\", pd.NaT)) + time_diff\n",
    "    )\n",
    "\n",
    "for table_name, df in tdf.items():\n",
    "    df.to_sql(table_name, conn, if_exists=\"replace\", index=False)\n",
    "del df\n",
    "del tdf\n",
    "conn.commit()\n",
    "conn.close()\n",
    "\n",
    "db = local_file  # We'll be using this local file as our DB in this tutorial"
   ]
  }
 ],
 "metadata": {
  "kernelspec": {
   "display_name": "venv",
   "language": "python",
   "name": "python3"
  },
  "language_info": {
   "codemirror_mode": {
    "name": "ipython",
    "version": 3
   },
   "file_extension": ".py",
   "mimetype": "text/x-python",
   "name": "python",
   "nbconvert_exporter": "python",
   "pygments_lexer": "ipython3",
   "version": "3.10.12"
  }
 },
 "nbformat": 4,
 "nbformat_minor": 2
}
