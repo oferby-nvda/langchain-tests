{
 "cells": [
  {
   "cell_type": "markdown",
   "metadata": {},
   "source": [
    "https://github.com/Coding-Crashkurse/LangGraph-Tutorial\n",
    "\n"
   ]
  },
  {
   "cell_type": "code",
   "execution_count": 2,
   "metadata": {},
   "outputs": [],
   "source": [
    "def read_code_from_file(file_path: str) -> str:\n",
    "    with open(file_path, \"r\") as file:\n",
    "        code = file.read()\n",
    "    return code\n",
    "\n",
    "\n",
    "def write_code_to_file(file_path: str, code: str):\n",
    "    with open(file_path, \"w\") as file:\n",
    "        file.write(code)"
   ]
  },
  {
   "cell_type": "code",
   "execution_count": 3,
   "metadata": {},
   "outputs": [],
   "source": [
    "from typing import Annotated\n",
    "from langchain_experimental.utilities import PythonREPL\n",
    "from langchain_core.tools import tool\n",
    "\n",
    "repl = PythonREPL()\n",
    "\n",
    "\n",
    "@tool\n",
    "def python_repl(code: Annotated[str, \"filename to read the code from\"]):\n",
    "    \"\"\"Use this to execute python code read from a file. If you want to see the output of a value,\n",
    "    Make sure that you read the code from correctly\n",
    "    you should print it out with `print(...)`. This is visible to the user.\"\"\"\n",
    "\n",
    "    try:\n",
    "        result = repl.run(code)\n",
    "        print(\"RESULT CODE EXECUTION:\", result)\n",
    "    except BaseException as e:\n",
    "        return f\"Failed to execute. Error: {repr(e)}\"\n",
    "    return f\"Executed:\\n```python\\n{code}\\n```\\nStdout: {result}\""
   ]
  },
  {
   "cell_type": "code",
   "execution_count": 4,
   "metadata": {},
   "outputs": [
    {
     "name": "stderr",
     "output_type": "stream",
     "text": [
      "Python REPL can execute arbitrary code. Use with caution.\n"
     ]
    },
    {
     "name": "stdout",
     "output_type": "stream",
     "text": [
      "RESULT CODE EXECUTION: SyntaxError('invalid syntax', ('<string>', 1, 1, './testfile.py\\n', 1, 2))\n"
     ]
    },
    {
     "data": {
      "text/plain": [
       "\"Executed:\\n```python\\n./testfile.py\\n```\\nStdout: SyntaxError('invalid syntax', ('<string>', 1, 1, './testfile.py\\\\n', 1, 2))\""
      ]
     },
     "execution_count": 4,
     "metadata": {},
     "output_type": "execute_result"
    }
   ],
   "source": [
    "python_repl.invoke(\"./testfile.py\")"
   ]
  },
  {
   "cell_type": "code",
   "execution_count": 5,
   "metadata": {},
   "outputs": [
    {
     "data": {
      "text/plain": [
       "True"
      ]
     },
     "execution_count": 5,
     "metadata": {},
     "output_type": "execute_result"
    }
   ],
   "source": [
    "import os\n",
    "from dotenv import load_dotenv\n",
    "from langchain_groq import ChatGroq\n",
    "from langchain_core.messages import HumanMessage, SystemMessage\n",
    "\n",
    "load_dotenv()"
   ]
  },
  {
   "cell_type": "code",
   "execution_count": 6,
   "metadata": {},
   "outputs": [],
   "source": [
    "groq_api_key = os.getenv(\"GROQ_API_KEY\")\n",
    "\n",
    "# MODEL_NAME = \"llama-3.1-70b-versatile\"\n",
    "MODEL_NAME = \"mixtral-8x7b-32768\"\n",
    "\n",
    "llm = ChatGroq(\n",
    "    temperature=0,\n",
    "    model_name=MODEL_NAME,\n",
    "    groq_api_key=groq_api_key\n",
    ")"
   ]
  },
  {
   "cell_type": "code",
   "execution_count": 7,
   "metadata": {},
   "outputs": [],
   "source": [
    "model_with_tools = llm.bind_tools([python_repl])"
   ]
  },
  {
   "cell_type": "code",
   "execution_count": 8,
   "metadata": {},
   "outputs": [],
   "source": [
    "messages = [\n",
    "    SystemMessage(\n",
    "        content=\"\"\" Your task is to test code by executing it using the python_repl tool.\n",
    "        If the code produced an error just return 'False'. If it worked, return 'True'\"\"\"\n",
    "    ),\n",
    "    HumanMessage(content=\"./testfile.py\"),\n",
    "]"
   ]
  },
  {
   "cell_type": "code",
   "execution_count": 9,
   "metadata": {},
   "outputs": [],
   "source": [
    "ai_msg = model_with_tools.invoke(messages)\n",
    "messages.append(ai_msg)"
   ]
  },
  {
   "cell_type": "code",
   "execution_count": 10,
   "metadata": {},
   "outputs": [
    {
     "data": {
      "text/plain": [
       "[SystemMessage(content=\" Your task is to test code by executing it using the python_repl tool.\\n        If the code produced an error just return 'False'. If it worked, return 'True'\"),\n",
       " HumanMessage(content='./testfile.py'),\n",
       " AIMessage(content='', additional_kwargs={'tool_calls': [{'id': 'call_3c29', 'function': {'arguments': '{\"code\":\"./testfile.py\"}', 'name': 'python_repl'}, 'type': 'function'}]}, response_metadata={'token_usage': {'completion_tokens': 93, 'prompt_tokens': 1272, 'total_tokens': 1365, 'completion_time': 0.146491943, 'prompt_time': 0.114541556, 'queue_time': None, 'total_time': 0.261033499}, 'model_name': 'mixtral-8x7b-32768', 'system_fingerprint': 'fp_c5f20b5bb1', 'finish_reason': 'tool_calls', 'logprobs': None}, id='run-30c6f509-d2e9-4699-ac18-85d70173002c-0', tool_calls=[{'name': 'python_repl', 'args': {'code': './testfile.py'}, 'id': 'call_3c29', 'type': 'tool_call'}], usage_metadata={'input_tokens': 1272, 'output_tokens': 93, 'total_tokens': 1365})]"
      ]
     },
     "execution_count": 10,
     "metadata": {},
     "output_type": "execute_result"
    }
   ],
   "source": [
    "messages"
   ]
  },
  {
   "cell_type": "code",
   "execution_count": 11,
   "metadata": {},
   "outputs": [
    {
     "name": "stdout",
     "output_type": "stream",
     "text": [
      "RESULT CODE EXECUTION: SyntaxError('invalid syntax', ('<string>', 1, 1, './testfile.py\\n', 1, 2))\n"
     ]
    },
    {
     "data": {
      "text/plain": [
       "AIMessage(content='False', response_metadata={'token_usage': {'completion_tokens': 2, 'prompt_tokens': 1407, 'total_tokens': 1409, 'completion_time': 0.003125, 'prompt_time': 0.148214539, 'queue_time': None, 'total_time': 0.151339539}, 'model_name': 'mixtral-8x7b-32768', 'system_fingerprint': 'fp_c5f20b5bb1', 'finish_reason': 'stop', 'logprobs': None}, id='run-1cc3a946-a4c1-422b-ab3e-2f909ba78ba6-0', usage_metadata={'input_tokens': 1407, 'output_tokens': 2, 'total_tokens': 1409})"
      ]
     },
     "execution_count": 11,
     "metadata": {},
     "output_type": "execute_result"
    }
   ],
   "source": [
    "from langchain_core.messages import HumanMessage, ToolMessage\n",
    "\n",
    "for tool_call in ai_msg.tool_calls:\n",
    "    selected_tool = {\"python_repl\": python_repl}[tool_call[\"name\"].lower()]\n",
    "    tool_output = selected_tool.invoke(tool_call[\"args\"])\n",
    "    messages.append(ToolMessage(tool_output, tool_call_id=tool_call[\"id\"]))\n",
    "\n",
    "model_with_tools.invoke(messages)"
   ]
  },
  {
   "cell_type": "markdown",
   "metadata": {},
   "source": [
    "Work With Agents"
   ]
  },
  {
   "cell_type": "code",
   "execution_count": 12,
   "metadata": {},
   "outputs": [],
   "source": [
    "from typing import TypedDict\n",
    "\n",
    "\n",
    "class AgentState(TypedDict):\n",
    "    message: str\n",
    "    error: bool\n",
    "    error_message: str\n",
    "    file_path: str\n",
    "    code: str\n",
    "    iterations: int"
   ]
  },
  {
   "cell_type": "code",
   "execution_count": null,
   "metadata": {},
   "outputs": [],
   "source": []
  }
 ],
 "metadata": {
  "kernelspec": {
   "display_name": "venv",
   "language": "python",
   "name": "python3"
  },
  "language_info": {
   "codemirror_mode": {
    "name": "ipython",
    "version": 3
   },
   "file_extension": ".py",
   "mimetype": "text/x-python",
   "name": "python",
   "nbconvert_exporter": "python",
   "pygments_lexer": "ipython3",
   "version": "3.10.12"
  }
 },
 "nbformat": 4,
 "nbformat_minor": 2
}
