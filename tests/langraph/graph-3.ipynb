{
 "cells": [
  {
   "cell_type": "code",
   "execution_count": 1,
   "metadata": {},
   "outputs": [
    {
     "data": {
      "text/plain": [
       "True"
      ]
     },
     "execution_count": 1,
     "metadata": {},
     "output_type": "execute_result"
    }
   ],
   "source": [
    "import os\n",
    "from dotenv import load_dotenv\n",
    "from langchain_groq import ChatGroq\n",
    "from langchain_core.prompts import ChatPromptTemplate\n",
    "\n",
    "load_dotenv()"
   ]
  },
  {
   "cell_type": "code",
   "execution_count": 2,
   "metadata": {},
   "outputs": [],
   "source": [
    "groq_api_key = os.getenv(\"GROQ_API_KEY\")\n",
    "\n",
    "MODEL_NAME = \"llama-3.1-70b-versatile\"\n",
    "\n",
    "llm = ChatGroq(\n",
    "    temperature=0,\n",
    "    model_name=MODEL_NAME,\n",
    "    groq_api_key=groq_api_key\n",
    ")"
   ]
  },
  {
   "cell_type": "code",
   "execution_count": 3,
   "metadata": {},
   "outputs": [],
   "source": [
    "from typing import Annotated, Literal, TypedDict\n",
    "from langchain_core.messages import HumanMessage, SystemMessage\n",
    "from langchain_core.tools import tool\n",
    "from langgraph.graph import END, StateGraph, MessagesState\n",
    "from langgraph.prebuilt import ToolNode\n",
    "from langgraph.checkpoint.memory import MemorySaver"
   ]
  },
  {
   "cell_type": "code",
   "execution_count": 4,
   "metadata": {},
   "outputs": [],
   "source": [
    "@tool\n",
    "def task1(request: str):\n",
    "    \"\"\"Do task1\"\"\"\n",
    "    return f\"Task1 {request}: OK\"\n",
    "\n",
    "@tool\n",
    "def task2(request: str):\n",
    "    \"\"\"Do task2\"\"\"\n",
    "    return f\"Task2 {request}: OK\"\n",
    "\n",
    "@tool\n",
    "def task3(request: str):\n",
    "    \"\"\"Do task3\"\"\"\n",
    "    return f\"Task3 {request}: OK\"\n",
    "\n",
    "tools = [task1, task2, task3]\n",
    "\n",
    "tool_node = ToolNode(tools)\n",
    "\n",
    "llm_with_tools = llm.bind_tools(tools)\n"
   ]
  },
  {
   "cell_type": "code",
   "execution_count": 5,
   "metadata": {},
   "outputs": [],
   "source": [
    "# Define the function that determines whether to continue or not\n",
    "def should_continue(state: MessagesState) -> Literal[\"tools\", END]:\n",
    "    messages = state['messages']\n",
    "    last_message = messages[-1]\n",
    "    # If the LLM makes a tool call, then we route to the \"tools\" node\n",
    "    if last_message.tool_calls:\n",
    "        return \"tools\"\n",
    "    # Otherwise, we stop (reply to the user)\n",
    "    return END"
   ]
  },
  {
   "cell_type": "code",
   "execution_count": 6,
   "metadata": {},
   "outputs": [],
   "source": [
    "# Define the function that calls the model\n",
    "def call_model(state: MessagesState):\n",
    "    messages = state['messages']\n",
    "    response = llm_with_tools.invoke(messages)\n",
    "    # We return a list, because this will get added to the existing list\n",
    "    return {\"messages\": [response]}"
   ]
  },
  {
   "cell_type": "code",
   "execution_count": 7,
   "metadata": {},
   "outputs": [],
   "source": [
    "# Define a new graph\n",
    "workflow = StateGraph(MessagesState)\n",
    "\n",
    "# Define the two nodes we will cycle between\n",
    "workflow.add_node(\"agent\", call_model)\n",
    "workflow.add_node(\"tools\", tool_node)\n",
    "\n",
    "# Set the entrypoint as `agent`\n",
    "# This means that this node is the first one called\n",
    "workflow.set_entry_point(\"agent\")\n",
    "\n",
    "# We now add a conditional edge\n",
    "workflow.add_conditional_edges(\n",
    "    # First, we define the start node. We use `agent`.\n",
    "    # This means these are the edges taken after the `agent` node is called.\n",
    "    \"agent\",\n",
    "    # Next, we pass in the function that will determine which node is called next.\n",
    "    should_continue,\n",
    ")\n",
    "\n",
    "# We now add a normal edge from `tools` to `agent`.\n",
    "# This means that after `tools` is called, `agent` node is called next.\n",
    "workflow.add_edge(\"tools\", 'agent')\n",
    "\n",
    "# Initialize memory to persist state between graph runs\n",
    "checkpointer = MemorySaver()\n",
    "\n",
    "# Finally, we compile it!\n",
    "# This compiles it into a LangChain Runnable,\n",
    "# meaning you can use it as you would any other runnable.\n",
    "# Note that we're (optionally) passing the memory when compiling the graph\n",
    "app = workflow.compile(checkpointer=checkpointer)\n"
   ]
  },
  {
   "cell_type": "code",
   "execution_count": 8,
   "metadata": {},
   "outputs": [
    {
     "data": {
      "image/png": "[encoded data removed]",
      "text/plain": [
       "<IPython.core.display.Image object>"
      ]
     },
     "execution_count": 8,
     "metadata": {},
     "output_type": "execute_result"
    }
   ],
   "source": [
    "from IPython.display import Image\n",
    "\n",
    "Image(app.get_graph().draw_png())"
   ]
  },
  {
   "cell_type": "code",
   "execution_count": 9,
   "metadata": {},
   "outputs": [
    {
     "data": {
      "text/plain": [
       "'All tasks completed successfully'"
      ]
     },
     "execution_count": 9,
     "metadata": {},
     "output_type": "execute_result"
    }
   ],
   "source": [
    "# Use the Runnable\n",
    "final_state = app.invoke(\n",
    "    {\"messages\": [\n",
    "        SystemMessage(content=\"\"\"You are a helpful agent aimed to complete requested tasks.\n",
    "                      When requested to run some task, run it using the tools only and return the result.\n",
    "                      if no tool was found to run a specific task, return no tool found.\n",
    "                      If all tasks completed successfuly, return 'all tasks completed successfully' message to the user.\n",
    "        \"\"\"),\n",
    "        HumanMessage(content=\"complete task3 and only in it is successful, do task1.\")]},\n",
    "    config={\"configurable\": {\"thread_id\": 42}}\n",
    ")\n",
    "final_state[\"messages\"][-1].content"
   ]
  },
  {
   "cell_type": "code",
   "execution_count": 10,
   "metadata": {},
   "outputs": [
    {
     "data": {
      "text/plain": [
       "[SystemMessage(content=\"You are a helpful agent aimed to complete requested tasks.\\n                      When requested to run some task, run it using the tools only and return the result.\\n                      if no tool was found to run a specific task, return no tool found.\\n                      I all tasks completed successfuly, return 'all tasks completed successfully' message to the user.\\n        \", id='334bba59-c3ea-47ea-ab7b-8d36bc15e7fb'),\n",
       " HumanMessage(content='complete task3 and only in it is successful, do task1.', id='a7a0e17a-e06a-41c8-b57c-1a4e62288dcd'),\n",
       " AIMessage(content='', additional_kwargs={'tool_calls': [{'id': 'call_gxcm', 'function': {'arguments': '{\"request\":\"complete task3\"}', 'name': 'task3'}, 'type': 'function'}]}, response_metadata={'token_usage': {'completion_tokens': 68, 'prompt_tokens': 1165, 'total_tokens': 1233, 'completion_time': 0.272, 'prompt_time': 0.271499288, 'queue_time': None, 'total_time': 0.543499288}, 'model_name': 'llama-3.1-70b-versatile', 'system_fingerprint': 'fp_9260b4bb2e', 'finish_reason': 'tool_calls', 'logprobs': None}, id='run-b8231b21-b615-43d5-a76b-69e391c6ec95-0', tool_calls=[{'name': 'task3', 'args': {'request': 'complete task3'}, 'id': 'call_gxcm', 'type': 'tool_call'}], usage_metadata={'input_tokens': 1165, 'output_tokens': 68, 'total_tokens': 1233}),\n",
       " ToolMessage(content='Task3 complete task3: OK', name='task3', id='e21cb59e-e94d-409f-9711-1a2e50077a3f', tool_call_id='call_gxcm'),\n",
       " AIMessage(content='', additional_kwargs={'tool_calls': [{'id': 'call_kkn7', 'function': {'arguments': '{\"request\":\"complete task1\"}', 'name': 'task1'}, 'type': 'function'}]}, response_metadata={'token_usage': {'completion_tokens': 35, 'prompt_tokens': 1236, 'total_tokens': 1271, 'completion_time': 0.14, 'prompt_time': 0.297696772, 'queue_time': None, 'total_time': 0.437696772}, 'model_name': 'llama-3.1-70b-versatile', 'system_fingerprint': 'fp_b3ae7e594e', 'finish_reason': 'tool_calls', 'logprobs': None}, id='run-acf1f7a8-5331-4084-aec5-65b8950833e5-0', tool_calls=[{'name': 'task1', 'args': {'request': 'complete task1'}, 'id': 'call_kkn7', 'type': 'tool_call'}], usage_metadata={'input_tokens': 1236, 'output_tokens': 35, 'total_tokens': 1271}),\n",
       " ToolMessage(content='Task1 complete task1: OK', name='task1', id='d076be59-6af4-4e9e-b4bf-620254f9701c', tool_call_id='call_kkn7'),\n",
       " AIMessage(content='All tasks completed successfully', response_metadata={'token_usage': {'completion_tokens': 5, 'prompt_tokens': 1307, 'total_tokens': 1312, 'completion_time': 0.02, 'prompt_time': 0.287135445, 'queue_time': None, 'total_time': 0.307135445}, 'model_name': 'llama-3.1-70b-versatile', 'system_fingerprint': 'fp_b6828be2c9', 'finish_reason': 'stop', 'logprobs': None}, id='run-c3861c7e-7452-4179-8bc6-7ec258c668e7-0', usage_metadata={'input_tokens': 1307, 'output_tokens': 5, 'total_tokens': 1312})]"
      ]
     },
     "execution_count": 10,
     "metadata": {},
     "output_type": "execute_result"
    }
   ],
   "source": [
    "final_state[\"messages\"]"
   ]
  },
  {
   "cell_type": "code",
   "execution_count": null,
   "metadata": {},
   "outputs": [],
   "source": []
  }
 ],
 "metadata": {
  "kernelspec": {
   "display_name": "venv",
   "language": "python",
   "name": "python3"
  },
  "language_info": {
   "codemirror_mode": {
    "name": "ipython",
    "version": 3
   },
   "file_extension": ".py",
   "mimetype": "text/x-python",
   "name": "python",
   "nbconvert_exporter": "python",
   "pygments_lexer": "ipython3",
   "version": "3.10.12"
  }
 },
 "nbformat": 4,
 "nbformat_minor": 2
}
