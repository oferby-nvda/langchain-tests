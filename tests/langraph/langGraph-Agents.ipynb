{
 "cells": [
  {
   "cell_type": "markdown",
   "metadata": {},
   "source": [
    "https://www.youtube.com/watch?v=usOmwLZNVuM\n",
    "\n",
    "https://www.pinecone.io/learn/langgraph-research-agent/"
   ]
  },
  {
   "cell_type": "code",
   "execution_count": 1,
   "metadata": {},
   "outputs": [
    {
     "name": "stdout",
     "output_type": "stream",
     "text": [
      "E: Could not open lock file /var/lib/dpkg/lock-frontend - open (13: Permission denied)\n",
      "E: Unable to acquire the dpkg frontend lock (/var/lib/dpkg/lock-frontend), are you root?\n"
     ]
    }
   ],
   "source": [
    "!apt-get install graphviz libgraphviz-dev pkg-config"
   ]
  },
  {
   "cell_type": "code",
   "execution_count": 2,
   "metadata": {},
   "outputs": [
    {
     "data": {
      "text/plain": [
       "True"
      ]
     },
     "execution_count": 2,
     "metadata": {},
     "output_type": "execute_result"
    }
   ],
   "source": [
    "import os\n",
    "from dotenv import load_dotenv\n",
    "load_dotenv()"
   ]
  },
  {
   "cell_type": "code",
   "execution_count": 3,
   "metadata": {},
   "outputs": [],
   "source": [
    "from langchain_groq import ChatGroq\n",
    "from langchain_core.tools import tool"
   ]
  },
  {
   "cell_type": "code",
   "execution_count": 4,
   "metadata": {},
   "outputs": [],
   "source": [
    "groq_api_key = os.getenv(\"GROQ_API_KEY\")\n",
    "\n",
    "MODEL_NAME = \"llama-3.1-70b-versatile\"\n",
    "\n",
    "llm = ChatGroq(\n",
    "    temperature=0,\n",
    "    model_name=MODEL_NAME,\n",
    "    groq_api_key=groq_api_key\n",
    ")"
   ]
  },
  {
   "cell_type": "code",
   "execution_count": 5,
   "metadata": {},
   "outputs": [],
   "source": [
    "def get_air_connection():\n",
    "    from air_sdk import AirApi\n",
    "    user = \"obenyacov@nvidia.com\"\n",
    "    api_token = os.getenv(\"AIR_API_KEY\")\n",
    "    air = AirApi(username=user, password=api_token, api_url=\"https://air-inside.nvidia.com/api/\")\n",
    "    return air"
   ]
  },
  {
   "cell_type": "code",
   "execution_count": 6,
   "metadata": {},
   "outputs": [],
   "source": [
    "air = get_air_connection()"
   ]
  },
  {
   "cell_type": "code",
   "execution_count": 7,
   "metadata": {},
   "outputs": [],
   "source": [
    "@tool(\"final_answer\")\n",
    "def final_answer(\n",
    "    introduction: str,\n",
    "    research_steps: str,\n",
    "    main_body: str,\n",
    "    conclusion: str,\n",
    "    sources: str\n",
    "):\n",
    "    \"\"\"Returns a natural language response to the user in the form of a research\n",
    "    report. There are several sections to this report, those are:\n",
    "    - `introduction`: a short paragraph introducing the user's question and the\n",
    "    topic we are researching.\n",
    "    - `research_steps`: a few bullet points explaining the steps that were taken\n",
    "    to research your report.\n",
    "    - `main_body`: this is where the bulk of high quality and concise\n",
    "    information that answers the user's question belongs. It is 3-4 paragraphs\n",
    "    long in length.\n",
    "    - `conclusion`: this is a short single paragraph conclusion providing a\n",
    "    concise but sophisticated view on what was found.\n",
    "    - `sources`: a bulletpoint list provided detailed sources for all information\n",
    "    referenced during the research process\n",
    "    \"\"\"\n",
    "    if type(research_steps) is list:\n",
    "        research_steps = \"\\n\".join([f\"- {r}\" for r in research_steps])\n",
    "    if type(sources) is list:\n",
    "        sources = \"\\n\".join([f\"- {s}\" for s in sources])\n",
    "    return \"\""
   ]
  },
  {
   "cell_type": "code",
   "execution_count": 8,
   "metadata": {},
   "outputs": [],
   "source": [
    "@tool(\"get_simulation_list\")\n",
    "def get_simulation_list(ignor: str):\n",
    "    \"\"\"\n",
    "    Get a list of all current simulation for the loggedin user.\n",
    "    \"\"\"\n",
    "    simulations = air.simulations.list()\n",
    "    return simulations\n",
    "    "
   ]
  },
  {
   "cell_type": "code",
   "execution_count": 9,
   "metadata": {},
   "outputs": [],
   "source": [
    "@tool(\"get_username\")\n",
    "def get_username(ignor: str):\n",
    "    \"\"\"\n",
    "    Return the current loggedin username\n",
    "    \"\"\"\n",
    "    return \"oferby\""
   ]
  },
  {
   "cell_type": "code",
   "execution_count": 10,
   "metadata": {},
   "outputs": [],
   "source": [
    "tools = [\n",
    "    get_simulation_list,\n",
    "    final_answer,\n",
    "    get_username\n",
    "]\n",
    "\n",
    "tool_str_to_func = {\n",
    "    \"get_simulation_list\": get_simulation_list,\n",
    "    \"final_answer\": final_answer,\n",
    "    \"get_username\": get_username\n",
    "}\n"
   ]
  },
  {
   "cell_type": "code",
   "execution_count": 11,
   "metadata": {},
   "outputs": [],
   "source": [
    "llm_with_tools = llm.bind_tools(tools, tool_choice=\"auto\")"
   ]
  },
  {
   "cell_type": "code",
   "execution_count": 12,
   "metadata": {},
   "outputs": [],
   "source": [
    "simulations = get_simulation_list.invoke(input={\"ignor\":\"\"})"
   ]
  },
  {
   "cell_type": "code",
   "execution_count": 13,
   "metadata": {},
   "outputs": [
    {
     "name": "stdout",
     "output_type": "stream",
     "text": [
      "Attributes of Simulation object:\n",
      "  _deleted: False\n",
      "  _updatable: True\n",
      "  _deletable: False\n",
      "  _api: <air_sdk.simulation.SimulationApi object at 0x7fd5fa9755a0>\n",
      "  url: https://air-inside.nvidia.com/api/v1/simulation/47749582-bf36-40b7-a4c1-a7dfab0b6139/\n",
      "  id: 47749582-bf36-40b7-a4c1-a7dfab0b6139\n",
      "  topology: <air_sdk.air_model.LazyLoaded Topology a0ae35d6-4ec4-49d9-8837-70d3f227a0a3>\n",
      "  topology_id: a0ae35d6-4ec4-49d9-8837-70d3f227a0a3\n",
      "  state: STORED\n",
      "  nodes: [<air_sdk.air_model.LazyLoaded Simulation_node 28a26e2c-1c24-49fc-83d6-d2a5112454f1>, <air_sdk.air_model.LazyLoaded Simulation_node 57830adc-dbf3-40ba-ae17-99472d8547d0>, <air_sdk.air_model.LazyLoaded Simulation_node f6c2c5c9-681d-4e3d-9eca-a5c1866dcfcd>, <air_sdk.air_model.LazyLoaded Simulation_node fca60f8c-6c4e-4b56-82be-c7a11dce4fce>]\n",
      "  services: []\n",
      "  name: obenyacov@nvidia.com\n",
      "  expires: True\n",
      "  expires_at: 2024-08-29 14:41:38.916778+00:00\n",
      "  sleep: True\n",
      "  sleep_at: 2024-08-16 02:42:18.106610+00:00\n",
      "  netq_username: obenyacov+47749582@nvidia.com\n",
      "  netq_password: Hw!0XUR9\n",
      "  title: gNMI Test\n",
      "  organization: None\n",
      "  citc: False\n",
      "  demo: None\n",
      "  metadata: {\"write_ok\": true}\n",
      "  documentation: None\n",
      "  cloned: False\n",
      "  created: 2024-08-15 14:41:38.925923+00:00\n",
      "  organization_name: None\n"
     ]
    }
   ],
   "source": [
    "def print_object_attributes(obj):\n",
    "    print(f\"Attributes of {obj.__class__.__name__} object:\")\n",
    "    for attr, value in vars(obj).items():\n",
    "        print(f\"  {attr}: {value}\")\n",
    "\n",
    "print_object_attributes(simulations[0])"
   ]
  },
  {
   "cell_type": "code",
   "execution_count": 14,
   "metadata": {},
   "outputs": [],
   "source": [
    "from langchain_core.prompts import ChatPromptTemplate, MessagesPlaceholder\n",
    "\n",
    "system_prompt = \"\"\"You are the oracle, the great AI decision maker.\n",
    "Given the user's query you must decide what to do with it based on the\n",
    "list of tools provided to you.\n",
    "\n",
    "If you see that a tool has been used (in the scratchpad) with a particular\n",
    "query, do NOT use that same tool with the same query again. Also, do NOT use\n",
    "any tool more than twice (ie, if the tool appears in the scratchpad twice, do\n",
    "not use it again).\n",
    "\n",
    "You should aim to collect information from a diverse range of sources before\n",
    "providing the answer to the user. Once you have collected plenty of information\n",
    "to answer the user's question (stored in the scratchpad) use the final_answer\n",
    "tool.\"\"\"\n",
    "\n",
    "prompt = ChatPromptTemplate.from_messages([\n",
    "    (\"system\", system_prompt),\n",
    "    MessagesPlaceholder(variable_name=\"chat_history\"),\n",
    "    (\"user\", \"{input}\"),\n",
    "    (\"assistant\", \"scratchpad: {scratchpad}\"),\n",
    "])"
   ]
  },
  {
   "cell_type": "code",
   "execution_count": 15,
   "metadata": {},
   "outputs": [],
   "source": [
    "from typing import TypedDict, Annotated, List, Union\n",
    "from langchain_core.agents import AgentAction, AgentFinish\n",
    "from langchain_core.messages import BaseMessage\n",
    "import operator\n",
    "\n",
    "\n",
    "class AgentState(TypedDict):\n",
    "    input: str\n",
    "    chat_history: list[BaseMessage]\n",
    "    intermediate_steps: Annotated[list[tuple[AgentAction, str]], operator.add]"
   ]
  },
  {
   "cell_type": "code",
   "execution_count": 16,
   "metadata": {},
   "outputs": [],
   "source": [
    "# define a function to transform intermediate_steps from list\n",
    "# of AgentAction to scratchpad string\n",
    "def create_scratchpad(intermediate_steps: list[AgentAction]):\n",
    "    research_steps = []\n",
    "    for i, action in enumerate(intermediate_steps):\n",
    "        if action.log != \"TBD\":\n",
    "            # this was the ToolExecution\n",
    "            research_steps.append(\n",
    "                f\"Tool: {action.tool}, input: {action.tool_input}\\n\"\n",
    "                f\"Output: {action.log}\"\n",
    "            )\n",
    "    return \"\\n---\\n\".join(research_steps)\n",
    "\n",
    "oracle = (\n",
    "    {\n",
    "        \"input\": lambda x: x[\"input\"],\n",
    "        \"chat_history\": lambda x: x[\"chat_history\"],\n",
    "        \"scratchpad\": lambda x: create_scratchpad(\n",
    "            intermediate_steps=x[\"intermediate_steps\"]\n",
    "        ),\n",
    "    }\n",
    "    | prompt\n",
    "    | llm_with_tools\n",
    ")"
   ]
  },
  {
   "cell_type": "code",
   "execution_count": 17,
   "metadata": {},
   "outputs": [
    {
     "data": {
      "text/plain": [
       "AIMessage(content='', additional_kwargs={'tool_calls': [{'id': 'call_xsqj', 'function': {'arguments': '{\"ignor\":\"some_ignor_value\"}', 'name': 'get_simulation_list'}, 'type': 'function'}]}, response_metadata={'token_usage': {'completion_tokens': 49, 'prompt_tokens': 1531, 'total_tokens': 1580, 'completion_time': 0.196, 'prompt_time': 0.41434375, 'queue_time': None, 'total_time': 0.61034375}, 'model_name': 'llama-3.1-70b-versatile', 'system_fingerprint': 'fp_9260b4bb2e', 'finish_reason': 'tool_calls', 'logprobs': None}, id='run-13251f20-e0a5-4fcd-89d3-7ffd218daf5c-0', tool_calls=[{'name': 'get_simulation_list', 'args': {'ignor': 'some_ignor_value'}, 'id': 'call_xsqj', 'type': 'tool_call'}], usage_metadata={'input_tokens': 1531, 'output_tokens': 49, 'total_tokens': 1580})"
      ]
     },
     "execution_count": 17,
     "metadata": {},
     "output_type": "execute_result"
    }
   ],
   "source": [
    "inputs = {\n",
    "    \"input\": \"print the names of the current simulations\",\n",
    "    \"chat_history\": [],\n",
    "    \"intermediate_steps\": [],\n",
    "}\n",
    "out = oracle.invoke(inputs)\n",
    "out"
   ]
  },
  {
   "cell_type": "code",
   "execution_count": 18,
   "metadata": {},
   "outputs": [
    {
     "data": {
      "text/plain": [
       "'get_simulation_list'"
      ]
     },
     "execution_count": 18,
     "metadata": {},
     "output_type": "execute_result"
    }
   ],
   "source": [
    "out.tool_calls[0][\"name\"]"
   ]
  },
  {
   "cell_type": "code",
   "execution_count": 19,
   "metadata": {},
   "outputs": [
    {
     "data": {
      "text/plain": [
       "{'ignor': 'some_ignor_value'}"
      ]
     },
     "execution_count": 19,
     "metadata": {},
     "output_type": "execute_result"
    }
   ],
   "source": [
    "out.tool_calls[0][\"args\"]"
   ]
  },
  {
   "cell_type": "code",
   "execution_count": 20,
   "metadata": {},
   "outputs": [],
   "source": [
    "def run_oracle(state: list):\n",
    "    print(\"run_oracle\")\n",
    "    print(f\"intermediate_steps: {state['intermediate_steps']}\")\n",
    "    out = oracle.invoke(state)\n",
    "    tool_name = out.tool_calls[0][\"name\"]\n",
    "    tool_args = out.tool_calls[0][\"args\"]\n",
    "    action_out = AgentAction(\n",
    "        tool=tool_name,\n",
    "        tool_input=tool_args,\n",
    "        log=\"TBD\"\n",
    "    )\n",
    "    return {\n",
    "        \"intermediate_steps\": [action_out]\n",
    "    }\n",
    "\n",
    "def router(state: list):\n",
    "    # return the tool name to use\n",
    "    if isinstance(state[\"intermediate_steps\"], list):\n",
    "        return state[\"intermediate_steps\"][-1].tool\n",
    "    else:\n",
    "        # if we output bad format go to final answer\n",
    "        print(\"Router invalid format\")\n",
    "        return \"final_answer\""
   ]
  },
  {
   "cell_type": "code",
   "execution_count": 25,
   "metadata": {},
   "outputs": [],
   "source": [
    "def run_tool(state: list):\n",
    "    # use this as helper function so we repeat less code\n",
    "    tool_name = state[\"intermediate_steps\"][-1].tool\n",
    "    tool_args = state[\"intermediate_steps\"][-1].tool_input\n",
    "    print(f\"{tool_name}.invoke(input={tool_args})\")\n",
    "    # run tool\n",
    "    out = tool_str_to_func[tool_name].invoke(input=tool_args)\n",
    "    print(f\"out: {out}\")\n",
    "    action_out = AgentAction(\n",
    "        tool=tool_name,\n",
    "        tool_input=tool_args,\n",
    "        log=str(out)\n",
    "    )\n",
    "    return {\"intermediate_steps\": [action_out]}"
   ]
  },
  {
   "cell_type": "code",
   "execution_count": 26,
   "metadata": {},
   "outputs": [],
   "source": [
    "from langgraph.graph import StateGraph, END\n",
    "\n",
    "graph = StateGraph(AgentState)\n",
    "\n",
    "graph.add_node(\"oracle\", run_oracle)\n",
    "graph.add_node(\"get_simulation_list\", run_tool)\n",
    "graph.add_node(\"get_username\", run_tool)\n",
    "graph.add_node(\"final_answer\", run_tool)\n",
    "\n",
    "graph.set_entry_point(\"oracle\")\n",
    "\n",
    "graph.add_conditional_edges(\n",
    "    source=\"oracle\",  # where in graph to start\n",
    "    path=router,  # function to determine which node is called\n",
    ")\n",
    "\n",
    "# create edges from each tool back to the oracle\n",
    "for tool_obj in tools:\n",
    "    if tool_obj.name != \"final_answer\":\n",
    "        graph.add_edge(tool_obj.name, \"oracle\")\n",
    "\n",
    "# if anything goes to final answer, it must then move to END\n",
    "graph.add_edge(\"final_answer\", END)\n",
    "\n",
    "runnable = graph.compile()"
   ]
  },
  {
   "cell_type": "code",
   "execution_count": 27,
   "metadata": {},
   "outputs": [
    {
     "data": {
      "image/png": "[encoded data removed]",
      "text/plain": [
       "<IPython.core.display.Image object>"
      ]
     },
     "execution_count": 27,
     "metadata": {},
     "output_type": "execute_result"
    }
   ],
   "source": [
    "from IPython.display import Image\n",
    "\n",
    "Image(runnable.get_graph().draw_png())"
   ]
  },
  {
   "cell_type": "code",
   "execution_count": 28,
   "metadata": {},
   "outputs": [
    {
     "name": "stdout",
     "output_type": "stream",
     "text": [
      "run_oracle\n",
      "intermediate_steps: []\n"
     ]
    },
    {
     "name": "stdout",
     "output_type": "stream",
     "text": [
      "get_username.invoke(input={'ignor': 'some_ignor_value'})\n",
      "out: oferby\n",
      "run_oracle\n",
      "intermediate_steps: [AgentAction(tool='get_username', tool_input={'ignor': 'some_ignor_value'}, log='TBD'), AgentAction(tool='get_username', tool_input={'ignor': 'some_ignor_value'}, log='oferby')]\n",
      "get_username.invoke(input={'ignor': 'some_ignor_value'})\n",
      "out: oferby\n",
      "run_oracle\n",
      "intermediate_steps: [AgentAction(tool='get_username', tool_input={'ignor': 'some_ignor_value'}, log='TBD'), AgentAction(tool='get_username', tool_input={'ignor': 'some_ignor_value'}, log='oferby'), AgentAction(tool='get_username', tool_input={'ignor': 'some_ignor_value'}, log='TBD'), AgentAction(tool='get_username', tool_input={'ignor': 'some_ignor_value'}, log='oferby')]\n",
      "get_username.invoke(input={'ignor': 'some_ignor_value'})\n",
      "out: oferby\n",
      "run_oracle\n",
      "intermediate_steps: [AgentAction(tool='get_username', tool_input={'ignor': 'some_ignor_value'}, log='TBD'), AgentAction(tool='get_username', tool_input={'ignor': 'some_ignor_value'}, log='oferby'), AgentAction(tool='get_username', tool_input={'ignor': 'some_ignor_value'}, log='TBD'), AgentAction(tool='get_username', tool_input={'ignor': 'some_ignor_value'}, log='oferby'), AgentAction(tool='get_username', tool_input={'ignor': 'some_ignor_value'}, log='TBD'), AgentAction(tool='get_username', tool_input={'ignor': 'some_ignor_value'}, log='oferby')]\n",
      "get_username.invoke(input={'ignor': 'some_ignor_value'})\n",
      "out: oferby\n",
      "run_oracle\n",
      "intermediate_steps: [AgentAction(tool='get_username', tool_input={'ignor': 'some_ignor_value'}, log='TBD'), AgentAction(tool='get_username', tool_input={'ignor': 'some_ignor_value'}, log='oferby'), AgentAction(tool='get_username', tool_input={'ignor': 'some_ignor_value'}, log='TBD'), AgentAction(tool='get_username', tool_input={'ignor': 'some_ignor_value'}, log='oferby'), AgentAction(tool='get_username', tool_input={'ignor': 'some_ignor_value'}, log='TBD'), AgentAction(tool='get_username', tool_input={'ignor': 'some_ignor_value'}, log='oferby'), AgentAction(tool='get_username', tool_input={'ignor': 'some_ignor_value'}, log='TBD'), AgentAction(tool='get_username', tool_input={'ignor': 'some_ignor_value'}, log='oferby')]\n",
      "get_username.invoke(input={'ignor': 'some_ignor_value'})\n",
      "out: oferby\n",
      "run_oracle\n",
      "intermediate_steps: [AgentAction(tool='get_username', tool_input={'ignor': 'some_ignor_value'}, log='TBD'), AgentAction(tool='get_username', tool_input={'ignor': 'some_ignor_value'}, log='oferby'), AgentAction(tool='get_username', tool_input={'ignor': 'some_ignor_value'}, log='TBD'), AgentAction(tool='get_username', tool_input={'ignor': 'some_ignor_value'}, log='oferby'), AgentAction(tool='get_username', tool_input={'ignor': 'some_ignor_value'}, log='TBD'), AgentAction(tool='get_username', tool_input={'ignor': 'some_ignor_value'}, log='oferby'), AgentAction(tool='get_username', tool_input={'ignor': 'some_ignor_value'}, log='TBD'), AgentAction(tool='get_username', tool_input={'ignor': 'some_ignor_value'}, log='oferby'), AgentAction(tool='get_username', tool_input={'ignor': 'some_ignor_value'}, log='TBD'), AgentAction(tool='get_username', tool_input={'ignor': 'some_ignor_value'}, log='oferby')]\n",
      "get_username.invoke(input={'ignor': 'some_ignor_value'})\n",
      "out: oferby\n",
      "run_oracle\n",
      "intermediate_steps: [AgentAction(tool='get_username', tool_input={'ignor': 'some_ignor_value'}, log='TBD'), AgentAction(tool='get_username', tool_input={'ignor': 'some_ignor_value'}, log='oferby'), AgentAction(tool='get_username', tool_input={'ignor': 'some_ignor_value'}, log='TBD'), AgentAction(tool='get_username', tool_input={'ignor': 'some_ignor_value'}, log='oferby'), AgentAction(tool='get_username', tool_input={'ignor': 'some_ignor_value'}, log='TBD'), AgentAction(tool='get_username', tool_input={'ignor': 'some_ignor_value'}, log='oferby'), AgentAction(tool='get_username', tool_input={'ignor': 'some_ignor_value'}, log='TBD'), AgentAction(tool='get_username', tool_input={'ignor': 'some_ignor_value'}, log='oferby'), AgentAction(tool='get_username', tool_input={'ignor': 'some_ignor_value'}, log='TBD'), AgentAction(tool='get_username', tool_input={'ignor': 'some_ignor_value'}, log='oferby'), AgentAction(tool='get_username', tool_input={'ignor': 'some_ignor_value'}, log='TBD'), AgentAction(tool='get_username', tool_input={'ignor': 'some_ignor_value'}, log='oferby')]\n",
      "get_username.invoke(input={'ignor': 'some_ignor_value'})\n",
      "out: oferby\n",
      "run_oracle\n",
      "intermediate_steps: [AgentAction(tool='get_username', tool_input={'ignor': 'some_ignor_value'}, log='TBD'), AgentAction(tool='get_username', tool_input={'ignor': 'some_ignor_value'}, log='oferby'), AgentAction(tool='get_username', tool_input={'ignor': 'some_ignor_value'}, log='TBD'), AgentAction(tool='get_username', tool_input={'ignor': 'some_ignor_value'}, log='oferby'), AgentAction(tool='get_username', tool_input={'ignor': 'some_ignor_value'}, log='TBD'), AgentAction(tool='get_username', tool_input={'ignor': 'some_ignor_value'}, log='oferby'), AgentAction(tool='get_username', tool_input={'ignor': 'some_ignor_value'}, log='TBD'), AgentAction(tool='get_username', tool_input={'ignor': 'some_ignor_value'}, log='oferby'), AgentAction(tool='get_username', tool_input={'ignor': 'some_ignor_value'}, log='TBD'), AgentAction(tool='get_username', tool_input={'ignor': 'some_ignor_value'}, log='oferby'), AgentAction(tool='get_username', tool_input={'ignor': 'some_ignor_value'}, log='TBD'), AgentAction(tool='get_username', tool_input={'ignor': 'some_ignor_value'}, log='oferby'), AgentAction(tool='get_username', tool_input={'ignor': 'some_ignor_value'}, log='TBD'), AgentAction(tool='get_username', tool_input={'ignor': 'some_ignor_value'}, log='oferby')]\n",
      "get_username.invoke(input={'ignor': 'some_ignor_value'})\n",
      "out: oferby\n",
      "run_oracle\n",
      "intermediate_steps: [AgentAction(tool='get_username', tool_input={'ignor': 'some_ignor_value'}, log='TBD'), AgentAction(tool='get_username', tool_input={'ignor': 'some_ignor_value'}, log='oferby'), AgentAction(tool='get_username', tool_input={'ignor': 'some_ignor_value'}, log='TBD'), AgentAction(tool='get_username', tool_input={'ignor': 'some_ignor_value'}, log='oferby'), AgentAction(tool='get_username', tool_input={'ignor': 'some_ignor_value'}, log='TBD'), AgentAction(tool='get_username', tool_input={'ignor': 'some_ignor_value'}, log='oferby'), AgentAction(tool='get_username', tool_input={'ignor': 'some_ignor_value'}, log='TBD'), AgentAction(tool='get_username', tool_input={'ignor': 'some_ignor_value'}, log='oferby'), AgentAction(tool='get_username', tool_input={'ignor': 'some_ignor_value'}, log='TBD'), AgentAction(tool='get_username', tool_input={'ignor': 'some_ignor_value'}, log='oferby'), AgentAction(tool='get_username', tool_input={'ignor': 'some_ignor_value'}, log='TBD'), AgentAction(tool='get_username', tool_input={'ignor': 'some_ignor_value'}, log='oferby'), AgentAction(tool='get_username', tool_input={'ignor': 'some_ignor_value'}, log='TBD'), AgentAction(tool='get_username', tool_input={'ignor': 'some_ignor_value'}, log='oferby'), AgentAction(tool='get_username', tool_input={'ignor': 'some_ignor_value'}, log='TBD'), AgentAction(tool='get_username', tool_input={'ignor': 'some_ignor_value'}, log='oferby')]\n",
      "get_username.invoke(input={'ignor': 'some_ignor_value'})\n",
      "out: oferby\n",
      "run_oracle\n",
      "intermediate_steps: [AgentAction(tool='get_username', tool_input={'ignor': 'some_ignor_value'}, log='TBD'), AgentAction(tool='get_username', tool_input={'ignor': 'some_ignor_value'}, log='oferby'), AgentAction(tool='get_username', tool_input={'ignor': 'some_ignor_value'}, log='TBD'), AgentAction(tool='get_username', tool_input={'ignor': 'some_ignor_value'}, log='oferby'), AgentAction(tool='get_username', tool_input={'ignor': 'some_ignor_value'}, log='TBD'), AgentAction(tool='get_username', tool_input={'ignor': 'some_ignor_value'}, log='oferby'), AgentAction(tool='get_username', tool_input={'ignor': 'some_ignor_value'}, log='TBD'), AgentAction(tool='get_username', tool_input={'ignor': 'some_ignor_value'}, log='oferby'), AgentAction(tool='get_username', tool_input={'ignor': 'some_ignor_value'}, log='TBD'), AgentAction(tool='get_username', tool_input={'ignor': 'some_ignor_value'}, log='oferby'), AgentAction(tool='get_username', tool_input={'ignor': 'some_ignor_value'}, log='TBD'), AgentAction(tool='get_username', tool_input={'ignor': 'some_ignor_value'}, log='oferby'), AgentAction(tool='get_username', tool_input={'ignor': 'some_ignor_value'}, log='TBD'), AgentAction(tool='get_username', tool_input={'ignor': 'some_ignor_value'}, log='oferby'), AgentAction(tool='get_username', tool_input={'ignor': 'some_ignor_value'}, log='TBD'), AgentAction(tool='get_username', tool_input={'ignor': 'some_ignor_value'}, log='oferby'), AgentAction(tool='get_username', tool_input={'ignor': 'some_ignor_value'}, log='TBD'), AgentAction(tool='get_username', tool_input={'ignor': 'some_ignor_value'}, log='oferby')]\n",
      "get_username.invoke(input={'ignor': 'some_ignor_value'})\n",
      "out: oferby\n",
      "run_oracle\n",
      "intermediate_steps: [AgentAction(tool='get_username', tool_input={'ignor': 'some_ignor_value'}, log='TBD'), AgentAction(tool='get_username', tool_input={'ignor': 'some_ignor_value'}, log='oferby'), AgentAction(tool='get_username', tool_input={'ignor': 'some_ignor_value'}, log='TBD'), AgentAction(tool='get_username', tool_input={'ignor': 'some_ignor_value'}, log='oferby'), AgentAction(tool='get_username', tool_input={'ignor': 'some_ignor_value'}, log='TBD'), AgentAction(tool='get_username', tool_input={'ignor': 'some_ignor_value'}, log='oferby'), AgentAction(tool='get_username', tool_input={'ignor': 'some_ignor_value'}, log='TBD'), AgentAction(tool='get_username', tool_input={'ignor': 'some_ignor_value'}, log='oferby'), AgentAction(tool='get_username', tool_input={'ignor': 'some_ignor_value'}, log='TBD'), AgentAction(tool='get_username', tool_input={'ignor': 'some_ignor_value'}, log='oferby'), AgentAction(tool='get_username', tool_input={'ignor': 'some_ignor_value'}, log='TBD'), AgentAction(tool='get_username', tool_input={'ignor': 'some_ignor_value'}, log='oferby'), AgentAction(tool='get_username', tool_input={'ignor': 'some_ignor_value'}, log='TBD'), AgentAction(tool='get_username', tool_input={'ignor': 'some_ignor_value'}, log='oferby'), AgentAction(tool='get_username', tool_input={'ignor': 'some_ignor_value'}, log='TBD'), AgentAction(tool='get_username', tool_input={'ignor': 'some_ignor_value'}, log='oferby'), AgentAction(tool='get_username', tool_input={'ignor': 'some_ignor_value'}, log='TBD'), AgentAction(tool='get_username', tool_input={'ignor': 'some_ignor_value'}, log='oferby'), AgentAction(tool='get_username', tool_input={'ignor': 'some_ignor_value'}, log='TBD'), AgentAction(tool='get_username', tool_input={'ignor': 'some_ignor_value'}, log='oferby')]\n",
      "get_username.invoke(input={'ignor': 'some_ignor_value'})\n",
      "out: oferby\n",
      "run_oracle\n",
      "intermediate_steps: [AgentAction(tool='get_username', tool_input={'ignor': 'some_ignor_value'}, log='TBD'), AgentAction(tool='get_username', tool_input={'ignor': 'some_ignor_value'}, log='oferby'), AgentAction(tool='get_username', tool_input={'ignor': 'some_ignor_value'}, log='TBD'), AgentAction(tool='get_username', tool_input={'ignor': 'some_ignor_value'}, log='oferby'), AgentAction(tool='get_username', tool_input={'ignor': 'some_ignor_value'}, log='TBD'), AgentAction(tool='get_username', tool_input={'ignor': 'some_ignor_value'}, log='oferby'), AgentAction(tool='get_username', tool_input={'ignor': 'some_ignor_value'}, log='TBD'), AgentAction(tool='get_username', tool_input={'ignor': 'some_ignor_value'}, log='oferby'), AgentAction(tool='get_username', tool_input={'ignor': 'some_ignor_value'}, log='TBD'), AgentAction(tool='get_username', tool_input={'ignor': 'some_ignor_value'}, log='oferby'), AgentAction(tool='get_username', tool_input={'ignor': 'some_ignor_value'}, log='TBD'), AgentAction(tool='get_username', tool_input={'ignor': 'some_ignor_value'}, log='oferby'), AgentAction(tool='get_username', tool_input={'ignor': 'some_ignor_value'}, log='TBD'), AgentAction(tool='get_username', tool_input={'ignor': 'some_ignor_value'}, log='oferby'), AgentAction(tool='get_username', tool_input={'ignor': 'some_ignor_value'}, log='TBD'), AgentAction(tool='get_username', tool_input={'ignor': 'some_ignor_value'}, log='oferby'), AgentAction(tool='get_username', tool_input={'ignor': 'some_ignor_value'}, log='TBD'), AgentAction(tool='get_username', tool_input={'ignor': 'some_ignor_value'}, log='oferby'), AgentAction(tool='get_username', tool_input={'ignor': 'some_ignor_value'}, log='TBD'), AgentAction(tool='get_username', tool_input={'ignor': 'some_ignor_value'}, log='oferby'), AgentAction(tool='get_username', tool_input={'ignor': 'some_ignor_value'}, log='TBD'), AgentAction(tool='get_username', tool_input={'ignor': 'some_ignor_value'}, log='oferby')]\n",
      "get_username.invoke(input={'ignor': 'some_ignor_value'})\n",
      "out: oferby\n",
      "run_oracle\n",
      "intermediate_steps: [AgentAction(tool='get_username', tool_input={'ignor': 'some_ignor_value'}, log='TBD'), AgentAction(tool='get_username', tool_input={'ignor': 'some_ignor_value'}, log='oferby'), AgentAction(tool='get_username', tool_input={'ignor': 'some_ignor_value'}, log='TBD'), AgentAction(tool='get_username', tool_input={'ignor': 'some_ignor_value'}, log='oferby'), AgentAction(tool='get_username', tool_input={'ignor': 'some_ignor_value'}, log='TBD'), AgentAction(tool='get_username', tool_input={'ignor': 'some_ignor_value'}, log='oferby'), AgentAction(tool='get_username', tool_input={'ignor': 'some_ignor_value'}, log='TBD'), AgentAction(tool='get_username', tool_input={'ignor': 'some_ignor_value'}, log='oferby'), AgentAction(tool='get_username', tool_input={'ignor': 'some_ignor_value'}, log='TBD'), AgentAction(tool='get_username', tool_input={'ignor': 'some_ignor_value'}, log='oferby'), AgentAction(tool='get_username', tool_input={'ignor': 'some_ignor_value'}, log='TBD'), AgentAction(tool='get_username', tool_input={'ignor': 'some_ignor_value'}, log='oferby'), AgentAction(tool='get_username', tool_input={'ignor': 'some_ignor_value'}, log='TBD'), AgentAction(tool='get_username', tool_input={'ignor': 'some_ignor_value'}, log='oferby'), AgentAction(tool='get_username', tool_input={'ignor': 'some_ignor_value'}, log='TBD'), AgentAction(tool='get_username', tool_input={'ignor': 'some_ignor_value'}, log='oferby'), AgentAction(tool='get_username', tool_input={'ignor': 'some_ignor_value'}, log='TBD'), AgentAction(tool='get_username', tool_input={'ignor': 'some_ignor_value'}, log='oferby'), AgentAction(tool='get_username', tool_input={'ignor': 'some_ignor_value'}, log='TBD'), AgentAction(tool='get_username', tool_input={'ignor': 'some_ignor_value'}, log='oferby'), AgentAction(tool='get_username', tool_input={'ignor': 'some_ignor_value'}, log='TBD'), AgentAction(tool='get_username', tool_input={'ignor': 'some_ignor_value'}, log='oferby'), AgentAction(tool='get_username', tool_input={'ignor': 'some_ignor_value'}, log='TBD'), AgentAction(tool='get_username', tool_input={'ignor': 'some_ignor_value'}, log='oferby')]\n"
     ]
    },
    {
     "ename": "GraphRecursionError",
     "evalue": "Recursion limit of 25 reachedwithout hitting a stop condition. You can increase the limit by setting the `recursion_limit` config key.",
     "output_type": "error",
     "traceback": [
      "\u001b[0;31m---------------------------------------------------------------------------\u001b[0m",
      "\u001b[0;31mGraphRecursionError\u001b[0m                       Traceback (most recent call last)",
      "Cell \u001b[0;32mIn[28], line 1\u001b[0m\n\u001b[0;32m----> 1\u001b[0m out \u001b[38;5;241m=\u001b[39m \u001b[43mrunnable\u001b[49m\u001b[38;5;241;43m.\u001b[39;49m\u001b[43minvoke\u001b[49m\u001b[43m(\u001b[49m\u001b[43m{\u001b[49m\n\u001b[1;32m      2\u001b[0m \u001b[43m    \u001b[49m\u001b[38;5;124;43m\"\u001b[39;49m\u001b[38;5;124;43minput\u001b[39;49m\u001b[38;5;124;43m\"\u001b[39;49m\u001b[43m:\u001b[49m\u001b[43m \u001b[49m\u001b[38;5;124;43m\"\u001b[39;49m\u001b[38;5;124;43mget the current username\u001b[39;49m\u001b[38;5;124;43m\"\u001b[39;49m\u001b[43m,\u001b[49m\n\u001b[1;32m      3\u001b[0m \u001b[43m    \u001b[49m\u001b[38;5;124;43m\"\u001b[39;49m\u001b[38;5;124;43mchat_history\u001b[39;49m\u001b[38;5;124;43m\"\u001b[39;49m\u001b[43m:\u001b[49m\u001b[43m \u001b[49m\u001b[43m[\u001b[49m\u001b[43m]\u001b[49m\u001b[43m,\u001b[49m\n\u001b[1;32m      4\u001b[0m \u001b[43m}\u001b[49m\u001b[43m)\u001b[49m\n",
      "File \u001b[0;32m~/dev/langchain/proj1/venv/lib/python3.10/site-packages/langgraph/pregel/__init__.py:1554\u001b[0m, in \u001b[0;36mPregel.invoke\u001b[0;34m(self, input, config, stream_mode, output_keys, input_keys, interrupt_before, interrupt_after, debug, **kwargs)\u001b[0m\n\u001b[1;32m   1552\u001b[0m \u001b[38;5;28;01melse\u001b[39;00m:\n\u001b[1;32m   1553\u001b[0m     chunks \u001b[38;5;241m=\u001b[39m []\n\u001b[0;32m-> 1554\u001b[0m \u001b[38;5;28;01mfor\u001b[39;00m chunk \u001b[38;5;129;01min\u001b[39;00m \u001b[38;5;28mself\u001b[39m\u001b[38;5;241m.\u001b[39mstream(\n\u001b[1;32m   1555\u001b[0m     \u001b[38;5;28minput\u001b[39m,\n\u001b[1;32m   1556\u001b[0m     config,\n\u001b[1;32m   1557\u001b[0m     stream_mode\u001b[38;5;241m=\u001b[39mstream_mode,\n\u001b[1;32m   1558\u001b[0m     output_keys\u001b[38;5;241m=\u001b[39moutput_keys,\n\u001b[1;32m   1559\u001b[0m     input_keys\u001b[38;5;241m=\u001b[39minput_keys,\n\u001b[1;32m   1560\u001b[0m     interrupt_before\u001b[38;5;241m=\u001b[39minterrupt_before,\n\u001b[1;32m   1561\u001b[0m     interrupt_after\u001b[38;5;241m=\u001b[39minterrupt_after,\n\u001b[1;32m   1562\u001b[0m     debug\u001b[38;5;241m=\u001b[39mdebug,\n\u001b[1;32m   1563\u001b[0m     \u001b[38;5;241m*\u001b[39m\u001b[38;5;241m*\u001b[39mkwargs,\n\u001b[1;32m   1564\u001b[0m ):\n\u001b[1;32m   1565\u001b[0m     \u001b[38;5;28;01mif\u001b[39;00m stream_mode \u001b[38;5;241m==\u001b[39m \u001b[38;5;124m\"\u001b[39m\u001b[38;5;124mvalues\u001b[39m\u001b[38;5;124m\"\u001b[39m:\n\u001b[1;32m   1566\u001b[0m         latest \u001b[38;5;241m=\u001b[39m chunk\n",
      "File \u001b[0;32m~/dev/langchain/proj1/venv/lib/python3.10/site-packages/langgraph/pregel/__init__.py:1133\u001b[0m, in \u001b[0;36mPregel.stream\u001b[0;34m(self, input, config, stream_mode, output_keys, input_keys, interrupt_before, interrupt_after, debug)\u001b[0m\n\u001b[1;32m   1131\u001b[0m         \u001b[38;5;28;01mbreak\u001b[39;00m\n\u001b[1;32m   1132\u001b[0m \u001b[38;5;28;01melse\u001b[39;00m:\n\u001b[0;32m-> 1133\u001b[0m     \u001b[38;5;28;01mraise\u001b[39;00m GraphRecursionError(\n\u001b[1;32m   1134\u001b[0m         \u001b[38;5;124mf\u001b[39m\u001b[38;5;124m\"\u001b[39m\u001b[38;5;124mRecursion limit of \u001b[39m\u001b[38;5;132;01m{\u001b[39;00mconfig[\u001b[38;5;124m'\u001b[39m\u001b[38;5;124mrecursion_limit\u001b[39m\u001b[38;5;124m'\u001b[39m]\u001b[38;5;132;01m}\u001b[39;00m\u001b[38;5;124m reached\u001b[39m\u001b[38;5;124m\"\u001b[39m\n\u001b[1;32m   1135\u001b[0m         \u001b[38;5;124m\"\u001b[39m\u001b[38;5;124mwithout hitting a stop condition. You can increase the \u001b[39m\u001b[38;5;124m\"\u001b[39m\n\u001b[1;32m   1136\u001b[0m         \u001b[38;5;124m\"\u001b[39m\u001b[38;5;124mlimit by setting the `recursion_limit` config key.\u001b[39m\u001b[38;5;124m\"\u001b[39m\n\u001b[1;32m   1137\u001b[0m     )\n\u001b[1;32m   1139\u001b[0m \u001b[38;5;66;03m# set final channel values as run output\u001b[39;00m\n\u001b[1;32m   1140\u001b[0m run_manager\u001b[38;5;241m.\u001b[39mon_chain_end(read_channels(channels, output_keys))\n",
      "\u001b[0;31mGraphRecursionError\u001b[0m: Recursion limit of 25 reachedwithout hitting a stop condition. You can increase the limit by setting the `recursion_limit` config key."
     ]
    }
   ],
   "source": [
    "out = runnable.invoke({\n",
    "    \"input\": \"get the current username\",\n",
    "    \"chat_history\": [],\n",
    "})"
   ]
  },
  {
   "cell_type": "code",
   "execution_count": 60,
   "metadata": {},
   "outputs": [],
   "source": [
    "state = AgentState({\"input\":\"get the current username\", \"chat_history\":[], \"intermediate_steps\":[]})"
   ]
  },
  {
   "cell_type": "code",
   "execution_count": 68,
   "metadata": {},
   "outputs": [
    {
     "name": "stdout",
     "output_type": "stream",
     "text": [
      "run_oracle\n",
      "intermediate_steps: [AgentAction(tool='get_username', tool_input={'ignor': ''}, log='TBD'), AgentAction(tool='get_username', tool_input={'ignor': ''}, log='oferby')]\n"
     ]
    },
    {
     "data": {
      "text/plain": [
       "{'intermediate_steps': [AgentAction(tool='get_username', tool_input={'ignor': ''}, log='TBD')]}"
      ]
     },
     "execution_count": 68,
     "metadata": {},
     "output_type": "execute_result"
    }
   ],
   "source": [
    "result = run_oracle(state)\n",
    "result"
   ]
  },
  {
   "cell_type": "code",
   "execution_count": 62,
   "metadata": {},
   "outputs": [],
   "source": [
    "state['intermediate_steps'] = result['intermediate_steps']"
   ]
  },
  {
   "cell_type": "code",
   "execution_count": 65,
   "metadata": {},
   "outputs": [
    {
     "data": {
      "text/plain": [
       "{'input': 'get the current username',\n",
       " 'chat_history': [],\n",
       " 'intermediate_steps': [AgentAction(tool='get_username', tool_input={'ignor': ''}, log='TBD')]}"
      ]
     },
     "execution_count": 65,
     "metadata": {},
     "output_type": "execute_result"
    }
   ],
   "source": [
    "state"
   ]
  },
  {
   "cell_type": "code",
   "execution_count": 64,
   "metadata": {},
   "outputs": [
    {
     "name": "stdout",
     "output_type": "stream",
     "text": [
      "get_username.invoke(input={'ignor': ''})\n",
      "out: oferby\n"
     ]
    },
    {
     "data": {
      "text/plain": [
       "{'intermediate_steps': [AgentAction(tool='get_username', tool_input={'ignor': ''}, log='oferby')]}"
      ]
     },
     "execution_count": 64,
     "metadata": {},
     "output_type": "execute_result"
    }
   ],
   "source": [
    "step = run_tool(state)\n",
    "step"
   ]
  },
  {
   "cell_type": "code",
   "execution_count": 66,
   "metadata": {},
   "outputs": [],
   "source": [
    "state['intermediate_steps'].append(step['intermediate_steps'][0])"
   ]
  },
  {
   "cell_type": "code",
   "execution_count": 67,
   "metadata": {},
   "outputs": [
    {
     "data": {
      "text/plain": [
       "\"Tool: get_username, input: {'ignor': ''}\\nOutput: oferby\""
      ]
     },
     "execution_count": 67,
     "metadata": {},
     "output_type": "execute_result"
    }
   ],
   "source": [
    "sp = create_scratchpad(result['intermediate_steps'])\n",
    "sp"
   ]
  },
  {
   "cell_type": "code",
   "execution_count": 54,
   "metadata": {},
   "outputs": [
    {
     "data": {
      "text/plain": [
       "{'intermediate_steps': [AgentAction(tool='get_username', tool_input={'ignor': ''}, log='TBD')]}"
      ]
     },
     "execution_count": 54,
     "metadata": {},
     "output_type": "execute_result"
    }
   ],
   "source": [
    "result"
   ]
  },
  {
   "cell_type": "code",
   "execution_count": 49,
   "metadata": {},
   "outputs": [],
   "source": [
    "action = result['intermediate_steps'][0]"
   ]
  },
  {
   "cell_type": "code",
   "execution_count": 50,
   "metadata": {},
   "outputs": [
    {
     "data": {
      "text/plain": [
       "AgentAction(tool='get_username', tool_input={'ignor': ''}, log='TBD')"
      ]
     },
     "execution_count": 50,
     "metadata": {},
     "output_type": "execute_result"
    }
   ],
   "source": [
    "action"
   ]
  },
  {
   "cell_type": "code",
   "execution_count": 51,
   "metadata": {},
   "outputs": [
    {
     "data": {
      "text/plain": [
       "'TBD'"
      ]
     },
     "execution_count": 51,
     "metadata": {},
     "output_type": "execute_result"
    }
   ],
   "source": [
    "action.log"
   ]
  },
  {
   "cell_type": "code",
   "execution_count": 69,
   "metadata": {},
   "outputs": [
    {
     "data": {
      "text/plain": [
       "<function __main__.<lambda>(x)>"
      ]
     },
     "execution_count": 69,
     "metadata": {},
     "output_type": "execute_result"
    }
   ],
   "source": [
    "lambda x: create_scratchpad(intermediate_steps=x[\"intermediate_steps\"])"
   ]
  },
  {
   "cell_type": "code",
   "execution_count": null,
   "metadata": {},
   "outputs": [],
   "source": []
  }
 ],
 "metadata": {
  "kernelspec": {
   "display_name": "venv",
   "language": "python",
   "name": "python3"
  },
  "language_info": {
   "codemirror_mode": {
    "name": "ipython",
    "version": 3
   },
   "file_extension": ".py",
   "mimetype": "text/x-python",
   "name": "python",
   "nbconvert_exporter": "python",
   "pygments_lexer": "ipython3",
   "version": "3.10.12"
  }
 },
 "nbformat": 4,
 "nbformat_minor": 2
}
