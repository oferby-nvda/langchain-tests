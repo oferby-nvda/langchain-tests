{
 "cells": [
  {
   "cell_type": "code",
   "execution_count": 1,
   "metadata": {},
   "outputs": [],
   "source": [
    "from langchain_groq import ChatGroq\n",
    "from langchain_core.tools import tool\n",
    "from langchain.agents import create_tool_calling_agent, AgentExecutor\n",
    "from langchain_core.prompts import ChatPromptTemplate\n",
    "from langchain_community.callbacks import get_openai_callback\n"
   ]
  },
  {
   "cell_type": "code",
   "execution_count": 2,
   "metadata": {},
   "outputs": [
    {
     "name": "stdout",
     "output_type": "stream",
     "text": [
      "AzureCogsSpeech2TextTool\n",
      "AzureCogsText2SpeechTool\n",
      "AzureCogsTextAnalyticsHealthTool\n",
      "BaseGraphQLTool\n",
      "BaseRequestsTool\n",
      "BaseSQLDatabaseTool\n",
      "BaseSparkSQLTool\n",
      "BaseTool\n",
      "BearlyInterpreterTool\n",
      "BingSearchResults\n",
      "BingSearchRun\n",
      "BraveSearch\n",
      "ClickTool\n",
      "CopyFileTool\n",
      "CurrentWebPageTool\n",
      "...\n"
     ]
    }
   ],
   "source": [
    "from langchain.tools import __all__ as public_api\n",
    "print('\\n'.join(public_api[10:25]) + '\\n...')"
   ]
  },
  {
   "cell_type": "code",
   "execution_count": 3,
   "metadata": {},
   "outputs": [
    {
     "data": {
      "text/plain": [
       "True"
      ]
     },
     "execution_count": 3,
     "metadata": {},
     "output_type": "execute_result"
    }
   ],
   "source": [
    "import os\n",
    "from dotenv import load_dotenv\n",
    "load_dotenv()"
   ]
  },
  {
   "cell_type": "code",
   "execution_count": 4,
   "metadata": {},
   "outputs": [],
   "source": [
    "groq_api_key = os.getenv(\"GROQ_API_KEY\")\n",
    "\n",
    "# MODEL_NAME = \"mixtral-8x7b-32768\"\n",
    "# MODEL_NAME=\"llama3-groq-70b-8192-tool-use-preview\"\n",
    "\n",
    "# User the following for tool calling\n",
    "MODEL_NAME=\"llama-3.1-70b-versatile\" \n",
    "\n",
    "llm = ChatGroq(\n",
    "    temperature=0,\n",
    "    model_name=MODEL_NAME,\n",
    "    groq_api_key=groq_api_key\n",
    ")"
   ]
  },
  {
   "cell_type": "code",
   "execution_count": 5,
   "metadata": {},
   "outputs": [],
   "source": [
    "@tool\n",
    "def multiply(x: float, y: float) -> float:\n",
    "    \"\"\"Multiply 'x' times 'y'.\"\"\"\n",
    "    return x * y\n",
    "\n",
    "@tool\n",
    "def add(x: float, y: float) -> float:\n",
    "    \"\"\"Add 'x' and 'y'.\"\"\"\n",
    "    return x + y\n",
    "\n",
    "@tool\n",
    "def fake_weather_api(city: str) -> str:\n",
    "    \"\"\"\n",
    "    Check the weather in a cpecified city\n",
    "    \n",
    "    Args:\n",
    "        city (str): The name of the city where you want to check the weather\n",
    "        \n",
    "    Returns:\n",
    "        str: A description of the current weather in a specified city\n",
    "    \"\"\"\n",
    "    return \"Sunny, 33°C\"\n",
    "\n",
    "\n",
    "tools = [multiply, add, fake_weather_api]"
   ]
  },
  {
   "cell_type": "code",
   "execution_count": 6,
   "metadata": {},
   "outputs": [],
   "source": [
    "prompt = ChatPromptTemplate.from_messages([\n",
    "    (\"system\", \"You're a helpful assistant skilled in math operations.\"),\n",
    "    (\"human\", \"{input}\"),\n",
    "    (\"placeholder\", \"{agent_scratchpad}\")\n",
    "])"
   ]
  },
  {
   "cell_type": "code",
   "execution_count": 7,
   "metadata": {},
   "outputs": [],
   "source": [
    "agent = create_tool_calling_agent(llm, tools, prompt)\n",
    "\n",
    "agent_executor = AgentExecutor(agent=agent, tools=tools, verbose=True)"
   ]
  },
  {
   "cell_type": "code",
   "execution_count": 8,
   "metadata": {},
   "outputs": [
    {
     "name": "stdout",
     "output_type": "stream",
     "text": [
      "\n",
      "\n",
      "\u001b[1m> Entering new AgentExecutor chain...\u001b[0m\n",
      "\u001b[32;1m\u001b[1;3m\n",
      "Invoking: `add` with `{'x': '3', 'y': '10'}`\n",
      "\n",
      "\n",
      "\u001b[0m\u001b[33;1m\u001b[1;3m13.0\u001b[0m\u001b[32;1m\u001b[1;3m\n",
      "Invoking: `multiply` with `{'x': '5', 'y': '2'}`\n",
      "\n",
      "\n",
      "\u001b[0m\u001b[36;1m\u001b[1;3m10.0\u001b[0m\u001b[32;1m\u001b[1;3mThe answer is 13.\u001b[0m\n",
      "\n",
      "\u001b[1m> Finished chain.\u001b[0m\n",
      "{'input': \"What's 3 plus 5 multiplied by 2?\", 'output': 'The answer is 13.'}\n"
     ]
    }
   ],
   "source": [
    "result = agent_executor.invoke({\"input\": \"What's 3 plus 5 multiplied by 2?\"})\n",
    "print(result)"
   ]
  },
  {
   "cell_type": "code",
   "execution_count": 9,
   "metadata": {},
   "outputs": [
    {
     "name": "stdout",
     "output_type": "stream",
     "text": [
      "\n",
      "\n",
      "\u001b[1m> Entering new AgentExecutor chain...\u001b[0m\n",
      "\u001b[32;1m\u001b[1;3m\n",
      "Invoking: `fake_weather_api` with `{'city': 'Tel-Aviv'}`\n",
      "\n",
      "\n",
      "\u001b[0m\u001b[38;5;200m\u001b[1;3mSunny, 33°C\u001b[0m\u001b[32;1m\u001b[1;3mThe current weather in Tel-Aviv is sunny with a temperature of 33°C.\u001b[0m\n",
      "\n",
      "\u001b[1m> Finished chain.\u001b[0m\n",
      "{'input': \"What's the current weather in Tel-Aviv?\", 'output': 'The current weather in Tel-Aviv is sunny with a temperature of 33°C.'}\n"
     ]
    }
   ],
   "source": [
    "result = agent_executor.invoke({\"input\": \"What's the current weather in Tel-Aviv?\"})\n",
    "print(result)"
   ]
  },
  {
   "cell_type": "code",
   "execution_count": 10,
   "metadata": {},
   "outputs": [
    {
     "data": {
      "text/plain": [
       "{'input': \"What's the current weather in Tel-Aviv?\",\n",
       " 'output': 'The current weather in Tel-Aviv is sunny with a temperature of 33°C.'}"
      ]
     },
     "execution_count": 10,
     "metadata": {},
     "output_type": "execute_result"
    }
   ],
   "source": [
    "result"
   ]
  },
  {
   "cell_type": "code",
   "execution_count": 11,
   "metadata": {},
   "outputs": [
    {
     "name": "stdout",
     "output_type": "stream",
     "text": [
      "\n",
      "\n",
      "\u001b[1m> Entering new AgentExecutor chain...\u001b[0m\n",
      "\n",
      "Full Prompt:\n",
      "System: You're a helpful assistant skilled in math operations.\n",
      "Human: What's 3 plus 5 multiplied by 2?\n",
      "\u001b[32;1m\u001b[1;3m\n",
      "Invoking: `add` with `{'x': 3, 'y': 10}`\n",
      "\n",
      "\n",
      "\u001b[0m\u001b[33;1m\u001b[1;3m13.0\u001b[0m\u001b[32;1m\u001b[1;3m\n",
      "Invoking: `multiply` with `{'x': 5, 'y': 2}`\n",
      "\n",
      "\n",
      "\u001b[0m\u001b[36;1m\u001b[1;3m10.0\u001b[0m\n",
      "Full Prompt:\n",
      "System: You're a helpful assistant skilled in math operations.\n",
      "Human: What's 3 plus 5 multiplied by 2?\n",
      "AI: \n",
      "Tool: 13.0\n",
      "Tool: 10.0\n",
      "\u001b[32;1m\u001b[1;3mThe answer is 13.\u001b[0m\n",
      "\n",
      "\u001b[1m> Finished chain.\u001b[0m\n",
      "{'input': \"What's 3 plus 5 multiplied by 2?\", 'output': 'The answer is 13.'}\n"
     ]
    }
   ],
   "source": [
    "from langchain_core.callbacks.base import BaseCallbackHandler\n",
    "\n",
    "class PromptPrintingCallbackHandler(BaseCallbackHandler):\n",
    "    def on_llm_start(self, serialized, prompts, **kwargs):\n",
    "        print(\"\\nFull Prompt:\")\n",
    "        for prompt in prompts:\n",
    "            print(prompt)\n",
    "\n",
    "# Use the custom callback handler\n",
    "callback_handler = PromptPrintingCallbackHandler()\n",
    "\n",
    "llm = ChatGroq(\n",
    "    temperature=0,\n",
    "    model_name=MODEL_NAME,\n",
    "    groq_api_key=groq_api_key,\n",
    "    callbacks=[callback_handler]\n",
    ")\n",
    "\n",
    "agent = create_tool_calling_agent(llm, tools, prompt)\n",
    "\n",
    "agent_executor = AgentExecutor(agent=agent, tools=tools, verbose=True)\n",
    "\n",
    "\n",
    "result = agent_executor.invoke(\n",
    "    {\"input\": \"What's 3 plus 5 multiplied by 2?\"}\n",
    ")\n",
    "\n",
    "print(result)"
   ]
  },
  {
   "cell_type": "code",
   "execution_count": null,
   "metadata": {},
   "outputs": [],
   "source": []
  }
 ],
 "metadata": {
  "kernelspec": {
   "display_name": "venv",
   "language": "python",
   "name": "python3"
  },
  "language_info": {
   "codemirror_mode": {
    "name": "ipython",
    "version": 3
   },
   "file_extension": ".py",
   "mimetype": "text/x-python",
   "name": "python",
   "nbconvert_exporter": "python",
   "pygments_lexer": "ipython3",
   "version": "3.10.12"
  }
 },
 "nbformat": 4,
 "nbformat_minor": 2
}
