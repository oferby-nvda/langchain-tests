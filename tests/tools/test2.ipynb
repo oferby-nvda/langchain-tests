{
 "cells": [
  {
   "cell_type": "markdown",
   "metadata": {},
   "source": [
    "https://console.groq.com/docs/tool-use"
   ]
  },
  {
   "cell_type": "code",
   "execution_count": 1,
   "metadata": {},
   "outputs": [],
   "source": [
    "import os\n",
    "from dotenv import load_dotenv\n",
    "load_dotenv()\n",
    "\n",
    "groq_api_key = os.getenv(\"GROQ_API_KEY\")"
   ]
  },
  {
   "cell_type": "code",
   "execution_count": 2,
   "metadata": {},
   "outputs": [],
   "source": [
    "from groq import Groq\n",
    "import json\n",
    "\n",
    "client = Groq()\n",
    "# MODEL = 'llama3-groq-70b-8192-tool-use-preview'\n",
    "MODEL=\"llama-3.1-70b-versatile\" "
   ]
  },
  {
   "cell_type": "markdown",
   "metadata": {},
   "source": [
    "# Tools"
   ]
  },
  {
   "cell_type": "code",
   "execution_count": 3,
   "metadata": {},
   "outputs": [],
   "source": [
    "def calculate(expression):\n",
    "    \"\"\"Evaluate a mathematical expression\"\"\"\n",
    "    try:\n",
    "        result = eval(expression)\n",
    "        return json.dumps({\"result\": result})\n",
    "    except:\n",
    "        return json.dumps({\"error\": \"Invalid expression\"})"
   ]
  },
  {
   "cell_type": "code",
   "execution_count": 4,
   "metadata": {},
   "outputs": [],
   "source": [
    "def get_messages(user_prompt):\n",
    "\n",
    "    messages=[\n",
    "        {\n",
    "            \"role\": \"system\",\n",
    "            \"content\": \"You are a tool assistant. Use any of the provided tools and return the results.\"\n",
    "        },\n",
    "        {\n",
    "            \"role\": \"user\",\n",
    "            \"content\": user_prompt,\n",
    "        }\n",
    "    ]\n",
    "    return messages\n"
   ]
  },
  {
   "cell_type": "code",
   "execution_count": 5,
   "metadata": {},
   "outputs": [],
   "source": [
    "tools = [\n",
    "    {\n",
    "        \"type\": \"function\",\n",
    "        \"function\": {\n",
    "            \"name\": \"calculate\",\n",
    "            \"description\": \"Evaluate a mathematical expression\",\n",
    "            \"parameters\": {\n",
    "                \"type\": \"object\",\n",
    "                \"properties\": {\n",
    "                    \"expression\": {\n",
    "                        \"type\": \"string\",\n",
    "                        \"description\": \"The mathematical expression to evaluate\",\n",
    "                    }\n",
    "                },\n",
    "                \"required\": [\"expression\"],\n",
    "            },\n",
    "        },\n",
    "    },\n",
    "    {\n",
    "        \"type\": \"function\",\n",
    "        \"function\": {\n",
    "            \"name\": \"get_simulation_list\",\n",
    "            \"description\": \"return a list of all the simulation names\",\n",
    "            \"parameters\": {\n",
    "                \"type\": \"object\",\n",
    "                \"properties\": {},\n",
    "                \"required\": [],\n",
    "            },\n",
    "        },\n",
    "    }\n",
    "]"
   ]
  },
  {
   "cell_type": "code",
   "execution_count": 6,
   "metadata": {},
   "outputs": [],
   "source": [
    "user_prompt = \"What is 25 * 4 + 10?\"\n",
    "\n",
    "# user_prompt = \"what is NVIDIA Air?\"\n",
    "\n",
    "# user_prompt = \"show me the simulation list\""
   ]
  },
  {
   "cell_type": "code",
   "execution_count": 7,
   "metadata": {},
   "outputs": [],
   "source": [
    "messages = get_messages(user_prompt)\n",
    "\n",
    "response = client.chat.completions.create(\n",
    "    model=MODEL,\n",
    "    messages=messages,\n",
    "    tools=tools,\n",
    "    tool_choice=\"auto\",\n",
    "    max_tokens=4096,\n",
    "    temperature=1e-8 \n",
    ")"
   ]
  },
  {
   "cell_type": "code",
   "execution_count": 8,
   "metadata": {},
   "outputs": [
    {
     "data": {
      "text/plain": [
       "ChatCompletion(id='chatcmpl-4f9466ad-e6f0-4d08-bcdc-8101e1856a6e', choices=[Choice(finish_reason='tool_calls', index=0, logprobs=None, message=ChatCompletionMessage(content=None, role='assistant', function_call=None, tool_calls=[ChatCompletionMessageToolCall(id='call_wm6k', function=Function(arguments='{\"expression\": \"25 * 4 + 10\"}', name='calculate'), type='function')]))], created=1724740376, model='llama-3.1-70b-versatile', object='chat.completion', system_fingerprint='fp_b3ae7e594e', usage=CompletionUsage(completion_tokens=20, prompt_tokens=293, total_tokens=313, completion_time=0.081375365, prompt_time=0.08465596, queue_time=0.25411857400000004, total_time=0.166031325), x_groq={'id': 'req_01j698k5xke5xbb4rmxtyddhgf'})"
      ]
     },
     "execution_count": 8,
     "metadata": {},
     "output_type": "execute_result"
    }
   ],
   "source": [
    "response"
   ]
  },
  {
   "cell_type": "code",
   "execution_count": 9,
   "metadata": {},
   "outputs": [
    {
     "data": {
      "text/plain": [
       "1"
      ]
     },
     "execution_count": 9,
     "metadata": {},
     "output_type": "execute_result"
    }
   ],
   "source": [
    "len(response.choices)"
   ]
  },
  {
   "cell_type": "code",
   "execution_count": 10,
   "metadata": {},
   "outputs": [
    {
     "data": {
      "text/plain": [
       "ChatCompletionMessage(content=None, role='assistant', function_call=None, tool_calls=[ChatCompletionMessageToolCall(id='call_wm6k', function=Function(arguments='{\"expression\": \"25 * 4 + 10\"}', name='calculate'), type='function')])"
      ]
     },
     "execution_count": 10,
     "metadata": {},
     "output_type": "execute_result"
    }
   ],
   "source": [
    "response_message = response.choices[0].message\n",
    "response_message"
   ]
  },
  {
   "cell_type": "code",
   "execution_count": 11,
   "metadata": {},
   "outputs": [
    {
     "data": {
      "text/plain": [
       "[ChatCompletionMessageToolCall(id='call_wm6k', function=Function(arguments='{\"expression\": \"25 * 4 + 10\"}', name='calculate'), type='function')]"
      ]
     },
     "execution_count": 11,
     "metadata": {},
     "output_type": "execute_result"
    }
   ],
   "source": [
    "tool_calls = response_message.tool_calls\n",
    "tool_calls"
   ]
  },
  {
   "cell_type": "code",
   "execution_count": 12,
   "metadata": {},
   "outputs": [],
   "source": [
    "available_functions = {\n",
    "    \"calculate\": calculate,\n",
    "}\n",
    "messages.append(response_message)"
   ]
  },
  {
   "cell_type": "code",
   "execution_count": 13,
   "metadata": {},
   "outputs": [
    {
     "name": "stdout",
     "output_type": "stream",
     "text": [
      "calculate ,  <function calculate at 0x7f1f9f691e10> ,  {'expression': '25 * 4 + 10'}\n"
     ]
    }
   ],
   "source": [
    "tool_call = tool_calls[0]\n",
    "function_name = tool_call.function.name\n",
    "function_to_call = available_functions[function_name]\n",
    "function_args = json.loads(tool_call.function.arguments)\n",
    "print(function_name,\", \", function_to_call,\", \", function_args)\n",
    "\n"
   ]
  },
  {
   "cell_type": "code",
   "execution_count": 14,
   "metadata": {},
   "outputs": [
    {
     "name": "stdout",
     "output_type": "stream",
     "text": [
      "{\"result\": 110}\n"
     ]
    }
   ],
   "source": [
    "function_response = function_to_call(\n",
    "    expression=function_args.get(\"expression\")\n",
    ")\n",
    "print(function_response)"
   ]
  },
  {
   "cell_type": "code",
   "execution_count": 15,
   "metadata": {},
   "outputs": [
    {
     "data": {
      "text/plain": [
       "[{'role': 'system',\n",
       "  'content': 'You are a tool assistant. Use any of the provided tools and return the results.'},\n",
       " {'role': 'user', 'content': 'What is 25 * 4 + 10?'},\n",
       " ChatCompletionMessage(content=None, role='assistant', function_call=None, tool_calls=[ChatCompletionMessageToolCall(id='call_wm6k', function=Function(arguments='{\"expression\": \"25 * 4 + 10\"}', name='calculate'), type='function')])]"
      ]
     },
     "execution_count": 15,
     "metadata": {},
     "output_type": "execute_result"
    }
   ],
   "source": [
    "messages "
   ]
  },
  {
   "cell_type": "code",
   "execution_count": null,
   "metadata": {},
   "outputs": [],
   "source": [
    "messages.append(\n",
    "    {\n",
    "        \"role\": \"tool\",\n",
    "        \"tool_call_id\": \"call_ckcb\",\n",
    "        \"name\": \"get_simulation_list\",\n",
    "        \"content\": '[\"Sim1\"]',\n",
    "    }\n",
    ")"
   ]
  },
  {
   "cell_type": "code",
   "execution_count": null,
   "metadata": {},
   "outputs": [],
   "source": [
    "messages"
   ]
  },
  {
   "cell_type": "code",
   "execution_count": null,
   "metadata": {},
   "outputs": [],
   "source": [
    "messages.append(\n",
    "    {\n",
    "        \"tool_call_id\": tool_call.id,\n",
    "        \"role\": \"tool\",\n",
    "        \"name\": function_name,\n",
    "        \"content\": function_response,\n",
    "    }\n",
    ")"
   ]
  },
  {
   "cell_type": "code",
   "execution_count": null,
   "metadata": {},
   "outputs": [],
   "source": [
    "\n",
    "second_response = client.chat.completions.create(\n",
    "    model=MODEL,\n",
    "    messages=messages,\n",
    "    # temperature=1e-8 \n",
    ")\n",
    "content = second_response.choices[0].message.content\n",
    "print(content)"
   ]
  },
  {
   "cell_type": "markdown",
   "metadata": {},
   "source": [
    "## all in a loop"
   ]
  },
  {
   "cell_type": "code",
   "execution_count": null,
   "metadata": {},
   "outputs": [],
   "source": [
    "if tool_calls:\n",
    "    available_functions = {\n",
    "        \"calculate\": calculate,\n",
    "    }\n",
    "    messages.append(response_message)\n",
    "    for tool_call in tool_calls:\n",
    "        function_name = tool_call.function.name\n",
    "        function_to_call = available_functions[function_name]\n",
    "        function_args = json.loads(tool_call.function.arguments)\n",
    "        function_response = function_to_call(\n",
    "            expression=function_args.get(\"expression\")\n",
    "        )\n",
    "        messages.append(\n",
    "            {\n",
    "                \"tool_call_id\": tool_call.id,\n",
    "                \"role\": \"tool\",\n",
    "                \"name\": function_name,\n",
    "                \"content\": function_response,\n",
    "            }\n",
    "        )\n",
    "    second_response = client.chat.completions.create(\n",
    "        model=MODEL,\n",
    "        messages=messages\n",
    "    )\n",
    "    content = second_response.choices[0].message.content\n",
    "    print(content)\n",
    "else:\n",
    "    print(\"no tool found\")    "
   ]
  },
  {
   "cell_type": "markdown",
   "metadata": {},
   "source": [
    "# Manual Query"
   ]
  },
  {
   "cell_type": "code",
   "execution_count": 12,
   "metadata": {},
   "outputs": [],
   "source": [
    "messages = [{\n",
    "        \"role\": \"system\",\n",
    "        \"content\": \"\"\"\n",
    "                You are a profitional technical assistant that helps the user build a network simulation using NVIDIA AIR.\n",
    "                NVIDIA Air is a cloud-hosted data center simulation platform designed to create a virtual environment \n",
    "                that mimics real-world production settings. It allows users to build and run simulations of \n",
    "                complex data center networks, enabling them to validate configurations, features, and automation code effectively. \n",
    "                You should answer questions related to this topic only. Be consice in your answers.\n",
    "                Do not offer to do anything that you do not have a tool for. \n",
    "                \"\"\"\n",
    "    }, {\n",
    "        \"role\": \"user\",\n",
    "        \"content\": \"show me the simulation list\"\n",
    "    }, {\n",
    "        \"role\": \"assistant\",\n",
    "        \"tool_calls\": [{\n",
    "                \"id\": \"call_ckcb\",\n",
    "                \"function\": {\n",
    "                    \"name\": \"get_simulation_list\",\n",
    "                    \"arguments\": \"{}\"\n",
    "                },\n",
    "                \"type\": \"function\"\n",
    "            }\n",
    "        ]\n",
    "    }, {\n",
    "        \"role\": \"tool\",\n",
    "        \"tool_call_id\": \"call_ckcb\",\n",
    "        \"name\": \"get_simulation_list\",\n",
    "        \"content\": \"[]\"\n",
    "    }\n",
    "]"
   ]
  },
  {
   "cell_type": "code",
   "execution_count": 13,
   "metadata": {},
   "outputs": [
    {
     "name": "stdout",
     "output_type": "stream",
     "text": [
      "You have no simulations created. \n",
      "\n",
      "Simulation list is currently empty.\n"
     ]
    }
   ],
   "source": [
    "second_response = client.chat.completions.create(\n",
    "    model=MODEL,\n",
    "    messages=messages,\n",
    "    # temperature=1e-8 \n",
    ")\n",
    "content = second_response.choices[0].message.content\n",
    "print(content)"
   ]
  },
  {
   "cell_type": "code",
   "execution_count": 19,
   "metadata": {},
   "outputs": [
    {
     "data": {
      "text/plain": [
       "ChatCompletion(id='chatcmpl-64dc8361-f895-45e5-9e54-cafb6f6b6045', choices=[Choice(finish_reason='stop', index=0, logprobs=None, message=ChatCompletionMessage(content=\"The simulation list is ['Sim1'].\", role='assistant', function_call=None, tool_calls=None))], created=1724740467, model='llama-3.1-70b-versatile', object='chat.completion', system_fingerprint='fp_5c5d1b5cfb', usage=CompletionUsage(completion_tokens=9, prompt_tokens=81, total_tokens=90, completion_time=0.036203285, prompt_time=0.024573227, queue_time=7.519046786, total_time=0.060776512), x_groq={'id': 'req_01j698nyz7e65b8f7rrfh8bw6r'})"
      ]
     },
     "execution_count": 19,
     "metadata": {},
     "output_type": "execute_result"
    }
   ],
   "source": [
    "second_response"
   ]
  },
  {
   "cell_type": "code",
   "execution_count": null,
   "metadata": {},
   "outputs": [],
   "source": []
  }
 ],
 "metadata": {
  "kernelspec": {
   "display_name": "venv",
   "language": "python",
   "name": "python3"
  },
  "language_info": {
   "codemirror_mode": {
    "name": "ipython",
    "version": 3
   },
   "file_extension": ".py",
   "mimetype": "text/x-python",
   "name": "python",
   "nbconvert_exporter": "python",
   "pygments_lexer": "ipython3",
   "version": "3.10.12"
  }
 },
 "nbformat": 4,
 "nbformat_minor": 2
}
