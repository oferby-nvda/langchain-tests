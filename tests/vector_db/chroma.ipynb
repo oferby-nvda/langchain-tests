{
 "cells": [
  {
   "cell_type": "code",
   "execution_count": null,
   "metadata": {},
   "outputs": [],
   "source": [
    "%pip install langchain-chroma"
   ]
  },
  {
   "cell_type": "code",
   "execution_count": 1,
   "metadata": {},
   "outputs": [],
   "source": [
    "from langchain_community.embeddings import HuggingFaceEmbeddings\n",
    "from langchain_chroma import Chroma\n",
    "from langchain_text_splitters import CharacterTextSplitter"
   ]
  },
  {
   "cell_type": "code",
   "execution_count": 2,
   "metadata": {},
   "outputs": [
    {
     "name": "stderr",
     "output_type": "stream",
     "text": [
      "/home/obenyacov/dev/langchain/proj1/venv/lib/python3.10/site-packages/langchain_core/_api/deprecation.py:141: LangChainDeprecationWarning: The class `HuggingFaceEmbeddings` was deprecated in LangChain 0.2.2 and will be removed in 0.3.0. An updated version of the class exists in the langchain-huggingface package and should be used instead. To use it run `pip install -U langchain-huggingface` and import as `from langchain_huggingface import HuggingFaceEmbeddings`.\n",
      "  warn_deprecated(\n",
      "/home/obenyacov/dev/langchain/proj1/venv/lib/python3.10/site-packages/sentence_transformers/cross_encoder/CrossEncoder.py:11: TqdmExperimentalWarning: Using `tqdm.autonotebook.tqdm` in notebook mode. Use `tqdm.tqdm` instead to force console mode (e.g. in jupyter console)\n",
      "  from tqdm.autonotebook import tqdm, trange\n"
     ]
    }
   ],
   "source": [
    "# Initialize the BAAI/bge-large-en embedding model\n",
    "embedding_function = HuggingFaceEmbeddings(model_name=\"BAAI/bge-large-en\")\n",
    "\n",
    "# Create a text splitter\n",
    "text_splitter = CharacterTextSplitter(chunk_size=1000, chunk_overlap=0)\n"
   ]
  },
  {
   "cell_type": "code",
   "execution_count": 3,
   "metadata": {},
   "outputs": [],
   "source": [
    "# Sample documents\n",
    "documents = [\n",
    "    \"Chroma is an AI-native open-source vector database.\",\n",
    "    \"Vector databases are optimized for storing and querying high-dimensional vectors.\",\n",
    "    \"BAAI/bge-large-en is a powerful embedding model for information retrieval tasks.\",\n",
    "    \"This updated code should work with the current version of Chroma and LangChain. The database will be automatically persisted to the specified directory, and you can load it in later sessions as shown.\"\n",
    "]\n",
    "\n",
    "# Split documents into chunks\n",
    "chunks = text_splitter.split_text(\"\\n\\n\".join(documents))"
   ]
  },
  {
   "cell_type": "code",
   "execution_count": 4,
   "metadata": {},
   "outputs": [],
   "source": [
    "# Create a persistent Chroma database\n",
    "persist_directory = \"./chroma_db\"\n",
    "vectordb = Chroma.from_texts(\n",
    "    texts=chunks,\n",
    "    embedding=embedding_function,\n",
    "    persist_directory=persist_directory\n",
    ")\n",
    "\n",
    "# The database is automatically persisted, no need to call persist()\n",
    "\n",
    "# To use the database in later sessions:\n",
    "loaded_vectordb = Chroma(\n",
    "    persist_directory=persist_directory,\n",
    "    embedding_function=embedding_function\n",
    ")"
   ]
  },
  {
   "cell_type": "code",
   "execution_count": 5,
   "metadata": {},
   "outputs": [
    {
     "name": "stderr",
     "output_type": "stream",
     "text": [
      "Number of requested results 2 is greater than number of elements in index 1, updating n_results = 1\n"
     ]
    },
    {
     "name": "stdout",
     "output_type": "stream",
     "text": [
      "Chroma is an AI-native open-source vector database.\n",
      "\n",
      "Vector databases are optimized for storing and querying high-dimensional vectors.\n",
      "\n",
      "BAAI/bge-large-en is a powerful embedding model for information retrieval tasks.\n",
      "\n",
      "This updated code should work with the current version of Chroma and LangChain. The database will be automatically persisted to the specified directory, and you can load it in later sessions as shown.\n"
     ]
    }
   ],
   "source": [
    "# Perform a similarity search\n",
    "query = \"What is a vector database?\"\n",
    "results = loaded_vectordb.similarity_search(query, k=2)\n",
    "\n",
    "for doc in results:\n",
    "    print(doc.page_content)"
   ]
  },
  {
   "cell_type": "code",
   "execution_count": 6,
   "metadata": {},
   "outputs": [
    {
     "data": {
      "text/plain": [
       "[Document(page_content='Chroma is an AI-native open-source vector database.\\n\\nVector databases are optimized for storing and querying high-dimensional vectors.\\n\\nBAAI/bge-large-en is a powerful embedding model for information retrieval tasks.\\n\\nThis updated code should work with the current version of Chroma and LangChain. The database will be automatically persisted to the specified directory, and you can load it in later sessions as shown.')]"
      ]
     },
     "execution_count": 6,
     "metadata": {},
     "output_type": "execute_result"
    }
   ],
   "source": [
    "results"
   ]
  },
  {
   "cell_type": "code",
   "execution_count": null,
   "metadata": {},
   "outputs": [],
   "source": []
  }
 ],
 "metadata": {
  "kernelspec": {
   "display_name": "venv",
   "language": "python",
   "name": "python3"
  },
  "language_info": {
   "codemirror_mode": {
    "name": "ipython",
    "version": 3
   },
   "file_extension": ".py",
   "mimetype": "text/x-python",
   "name": "python",
   "nbconvert_exporter": "python",
   "pygments_lexer": "ipython3",
   "version": "3.10.12"
  }
 },
 "nbformat": 4,
 "nbformat_minor": 2
}
